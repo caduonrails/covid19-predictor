{
 "cells": [
  {
   "cell_type": "markdown",
   "metadata": {},
   "source": [
    "# COVID-19 - analysis and prediction  \n",
    "\n",
    "\n",
    "### Table of Contents:  \n",
    "1. [Checking the data](#Checking-the-data)\n",
    "2. [Testing the data](#Testing-data)\n",
    "3. [SVM](#SVM)\n",
    "    - [Confirmed cases](#Confirmed-cases)\n",
    "    - [Number of deaths](#Number-of-deaths)\n",
    "    - [Number of recovered cases](#Number-of-recovered-cases)\n",
    "4. [Decision Tree](#Decision-Tree)"
   ]
  },
  {
   "cell_type": "markdown",
   "metadata": {},
   "source": [
    "## Checking the data\n",
    "First, it is required to analyse our dataset so that it is sure to not have any problems. To do so, we will print the first entries of the dataset:"
   ]
  },
  {
   "cell_type": "code",
   "execution_count": 1,
   "metadata": {},
   "outputs": [
    {
     "data": {
      "text/html": [
       "<div>\n",
       "<style scoped>\n",
       "    .dataframe tbody tr th:only-of-type {\n",
       "        vertical-align: middle;\n",
       "    }\n",
       "\n",
       "    .dataframe tbody tr th {\n",
       "        vertical-align: top;\n",
       "    }\n",
       "\n",
       "    .dataframe thead th {\n",
       "        text-align: right;\n",
       "    }\n",
       "</style>\n",
       "<table border=\"1\" class=\"dataframe\">\n",
       "  <thead>\n",
       "    <tr style=\"text-align: right;\">\n",
       "      <th></th>\n",
       "      <th>Province/State</th>\n",
       "      <th>Country/Region</th>\n",
       "      <th>Lat</th>\n",
       "      <th>Long</th>\n",
       "      <th>Date</th>\n",
       "      <th>Confirmed</th>\n",
       "      <th>Deaths</th>\n",
       "      <th>Recovered</th>\n",
       "    </tr>\n",
       "  </thead>\n",
       "  <tbody>\n",
       "    <tr>\n",
       "      <th>0</th>\n",
       "      <td>NaN</td>\n",
       "      <td>Afghanistan</td>\n",
       "      <td>33.0000</td>\n",
       "      <td>65.0000</td>\n",
       "      <td>2020-01-22</td>\n",
       "      <td>0</td>\n",
       "      <td>0</td>\n",
       "      <td>0</td>\n",
       "    </tr>\n",
       "    <tr>\n",
       "      <th>1</th>\n",
       "      <td>NaN</td>\n",
       "      <td>Albania</td>\n",
       "      <td>41.1533</td>\n",
       "      <td>20.1683</td>\n",
       "      <td>2020-01-22</td>\n",
       "      <td>0</td>\n",
       "      <td>0</td>\n",
       "      <td>0</td>\n",
       "    </tr>\n",
       "    <tr>\n",
       "      <th>2</th>\n",
       "      <td>NaN</td>\n",
       "      <td>Algeria</td>\n",
       "      <td>28.0339</td>\n",
       "      <td>1.6596</td>\n",
       "      <td>2020-01-22</td>\n",
       "      <td>0</td>\n",
       "      <td>0</td>\n",
       "      <td>0</td>\n",
       "    </tr>\n",
       "    <tr>\n",
       "      <th>3</th>\n",
       "      <td>NaN</td>\n",
       "      <td>Andorra</td>\n",
       "      <td>42.5063</td>\n",
       "      <td>1.5218</td>\n",
       "      <td>2020-01-22</td>\n",
       "      <td>0</td>\n",
       "      <td>0</td>\n",
       "      <td>0</td>\n",
       "    </tr>\n",
       "    <tr>\n",
       "      <th>4</th>\n",
       "      <td>NaN</td>\n",
       "      <td>Angola</td>\n",
       "      <td>-11.2027</td>\n",
       "      <td>17.8739</td>\n",
       "      <td>2020-01-22</td>\n",
       "      <td>0</td>\n",
       "      <td>0</td>\n",
       "      <td>0</td>\n",
       "    </tr>\n",
       "  </tbody>\n",
       "</table>\n",
       "</div>"
      ],
      "text/plain": [
       "  Province/State Country/Region      Lat     Long       Date  Confirmed  \\\n",
       "0            NaN    Afghanistan  33.0000  65.0000 2020-01-22          0   \n",
       "1            NaN        Albania  41.1533  20.1683 2020-01-22          0   \n",
       "2            NaN        Algeria  28.0339   1.6596 2020-01-22          0   \n",
       "3            NaN        Andorra  42.5063   1.5218 2020-01-22          0   \n",
       "4            NaN         Angola -11.2027  17.8739 2020-01-22          0   \n",
       "\n",
       "   Deaths  Recovered  \n",
       "0       0          0  \n",
       "1       0          0  \n",
       "2       0          0  \n",
       "3       0          0  \n",
       "4       0          0  "
      ]
     },
     "execution_count": 1,
     "metadata": {},
     "output_type": "execute_result"
    }
   ],
   "source": [
    "%matplotlib inline\n",
    "\n",
    "import pandas as pd\n",
    "import matplotlib.pyplot as plt\n",
    "import seaborn as sb\n",
    "\n",
    "data = pd.read_csv('data/covid19.csv', parse_dates=['Date'], infer_datetime_format=True)\n",
    "data.head()"
   ]
  },
  {
   "cell_type": "markdown",
   "metadata": {},
   "source": [
    "The first problem we can identify is that some entries don't have a value on the *Country/Region* column.\n",
    "\n",
    "We can fix this by assigning the value 'NA' to those entries:"
   ]
  },
  {
   "cell_type": "code",
   "execution_count": 2,
   "metadata": {
    "scrolled": true
   },
   "outputs": [
    {
     "data": {
      "text/html": [
       "<div>\n",
       "<style scoped>\n",
       "    .dataframe tbody tr th:only-of-type {\n",
       "        vertical-align: middle;\n",
       "    }\n",
       "\n",
       "    .dataframe tbody tr th {\n",
       "        vertical-align: top;\n",
       "    }\n",
       "\n",
       "    .dataframe thead th {\n",
       "        text-align: right;\n",
       "    }\n",
       "</style>\n",
       "<table border=\"1\" class=\"dataframe\">\n",
       "  <thead>\n",
       "    <tr style=\"text-align: right;\">\n",
       "      <th></th>\n",
       "      <th>Province/State</th>\n",
       "      <th>Country/Region</th>\n",
       "      <th>Lat</th>\n",
       "      <th>Long</th>\n",
       "      <th>Date</th>\n",
       "      <th>Confirmed</th>\n",
       "      <th>Deaths</th>\n",
       "      <th>Recovered</th>\n",
       "    </tr>\n",
       "  </thead>\n",
       "  <tbody>\n",
       "    <tr>\n",
       "      <th>0</th>\n",
       "      <td></td>\n",
       "      <td>Afghanistan</td>\n",
       "      <td>33.0000</td>\n",
       "      <td>65.0000</td>\n",
       "      <td>2020-01-22</td>\n",
       "      <td>0</td>\n",
       "      <td>0</td>\n",
       "      <td>0</td>\n",
       "    </tr>\n",
       "    <tr>\n",
       "      <th>1</th>\n",
       "      <td></td>\n",
       "      <td>Albania</td>\n",
       "      <td>41.1533</td>\n",
       "      <td>20.1683</td>\n",
       "      <td>2020-01-22</td>\n",
       "      <td>0</td>\n",
       "      <td>0</td>\n",
       "      <td>0</td>\n",
       "    </tr>\n",
       "    <tr>\n",
       "      <th>2</th>\n",
       "      <td></td>\n",
       "      <td>Algeria</td>\n",
       "      <td>28.0339</td>\n",
       "      <td>1.6596</td>\n",
       "      <td>2020-01-22</td>\n",
       "      <td>0</td>\n",
       "      <td>0</td>\n",
       "      <td>0</td>\n",
       "    </tr>\n",
       "    <tr>\n",
       "      <th>3</th>\n",
       "      <td></td>\n",
       "      <td>Andorra</td>\n",
       "      <td>42.5063</td>\n",
       "      <td>1.5218</td>\n",
       "      <td>2020-01-22</td>\n",
       "      <td>0</td>\n",
       "      <td>0</td>\n",
       "      <td>0</td>\n",
       "    </tr>\n",
       "    <tr>\n",
       "      <th>4</th>\n",
       "      <td></td>\n",
       "      <td>Angola</td>\n",
       "      <td>-11.2027</td>\n",
       "      <td>17.8739</td>\n",
       "      <td>2020-01-22</td>\n",
       "      <td>0</td>\n",
       "      <td>0</td>\n",
       "      <td>0</td>\n",
       "    </tr>\n",
       "  </tbody>\n",
       "</table>\n",
       "</div>"
      ],
      "text/plain": [
       "  Province/State Country/Region      Lat     Long       Date  Confirmed  \\\n",
       "0                   Afghanistan  33.0000  65.0000 2020-01-22          0   \n",
       "1                       Albania  41.1533  20.1683 2020-01-22          0   \n",
       "2                       Algeria  28.0339   1.6596 2020-01-22          0   \n",
       "3                       Andorra  42.5063   1.5218 2020-01-22          0   \n",
       "4                        Angola -11.2027  17.8739 2020-01-22          0   \n",
       "\n",
       "   Deaths  Recovered  \n",
       "0       0          0  \n",
       "1       0          0  \n",
       "2       0          0  \n",
       "3       0          0  \n",
       "4       0          0  "
      ]
     },
     "execution_count": 2,
     "metadata": {},
     "output_type": "execute_result"
    }
   ],
   "source": [
    "# filling missing values \n",
    "data[['Province/State']] = data[['Province/State']].fillna('')\n",
    "data.head()"
   ]
  },
  {
   "cell_type": "markdown",
   "metadata": {},
   "source": [
    "There were some comments on Kaggle about repeated lines, it seems this is not the case."
   ]
  },
  {
   "cell_type": "code",
   "execution_count": 3,
   "metadata": {},
   "outputs": [
    {
     "data": {
      "text/plain": [
       "Series([], dtype: bool)"
      ]
     },
     "execution_count": 3,
     "metadata": {},
     "output_type": "execute_result"
    }
   ],
   "source": [
    "duplicated_rows = data.duplicated()\n",
    "duplicated_rows[duplicated_rows == True]"
   ]
  },
  {
   "cell_type": "markdown",
   "metadata": {},
   "source": [
    "We can now take a look at some summary statistics about the data set:"
   ]
  },
  {
   "cell_type": "code",
   "execution_count": 4,
   "metadata": {},
   "outputs": [
    {
     "data": {
      "text/html": [
       "<div>\n",
       "<style scoped>\n",
       "    .dataframe tbody tr th:only-of-type {\n",
       "        vertical-align: middle;\n",
       "    }\n",
       "\n",
       "    .dataframe tbody tr th {\n",
       "        vertical-align: top;\n",
       "    }\n",
       "\n",
       "    .dataframe thead th {\n",
       "        text-align: right;\n",
       "    }\n",
       "</style>\n",
       "<table border=\"1\" class=\"dataframe\">\n",
       "  <thead>\n",
       "    <tr style=\"text-align: right;\">\n",
       "      <th></th>\n",
       "      <th>Lat</th>\n",
       "      <th>Long</th>\n",
       "      <th>Confirmed</th>\n",
       "      <th>Deaths</th>\n",
       "      <th>Recovered</th>\n",
       "    </tr>\n",
       "  </thead>\n",
       "  <tbody>\n",
       "    <tr>\n",
       "      <th>count</th>\n",
       "      <td>25152.000000</td>\n",
       "      <td>25152.000000</td>\n",
       "      <td>25152.000000</td>\n",
       "      <td>25152.000000</td>\n",
       "      <td>25152.000000</td>\n",
       "    </tr>\n",
       "    <tr>\n",
       "      <th>mean</th>\n",
       "      <td>21.433571</td>\n",
       "      <td>22.597991</td>\n",
       "      <td>2430.562420</td>\n",
       "      <td>147.948752</td>\n",
       "      <td>607.899531</td>\n",
       "    </tr>\n",
       "    <tr>\n",
       "      <th>std</th>\n",
       "      <td>24.740912</td>\n",
       "      <td>70.570899</td>\n",
       "      <td>23545.664313</td>\n",
       "      <td>1561.525918</td>\n",
       "      <td>5210.234488</td>\n",
       "    </tr>\n",
       "    <tr>\n",
       "      <th>min</th>\n",
       "      <td>-51.796300</td>\n",
       "      <td>-135.000000</td>\n",
       "      <td>-1.000000</td>\n",
       "      <td>-1.000000</td>\n",
       "      <td>0.000000</td>\n",
       "    </tr>\n",
       "    <tr>\n",
       "      <th>25%</th>\n",
       "      <td>7.000000</td>\n",
       "      <td>-19.020800</td>\n",
       "      <td>0.000000</td>\n",
       "      <td>0.000000</td>\n",
       "      <td>0.000000</td>\n",
       "    </tr>\n",
       "    <tr>\n",
       "      <th>50%</th>\n",
       "      <td>23.659750</td>\n",
       "      <td>20.921188</td>\n",
       "      <td>6.000000</td>\n",
       "      <td>0.000000</td>\n",
       "      <td>0.000000</td>\n",
       "    </tr>\n",
       "    <tr>\n",
       "      <th>75%</th>\n",
       "      <td>41.204400</td>\n",
       "      <td>81.000000</td>\n",
       "      <td>184.000000</td>\n",
       "      <td>2.000000</td>\n",
       "      <td>18.000000</td>\n",
       "    </tr>\n",
       "    <tr>\n",
       "      <th>max</th>\n",
       "      <td>71.706900</td>\n",
       "      <td>178.065000</td>\n",
       "      <td>965785.000000</td>\n",
       "      <td>54881.000000</td>\n",
       "      <td>117727.000000</td>\n",
       "    </tr>\n",
       "  </tbody>\n",
       "</table>\n",
       "</div>"
      ],
      "text/plain": [
       "                Lat          Long      Confirmed        Deaths      Recovered\n",
       "count  25152.000000  25152.000000   25152.000000  25152.000000   25152.000000\n",
       "mean      21.433571     22.597991    2430.562420    147.948752     607.899531\n",
       "std       24.740912     70.570899   23545.664313   1561.525918    5210.234488\n",
       "min      -51.796300   -135.000000      -1.000000     -1.000000       0.000000\n",
       "25%        7.000000    -19.020800       0.000000      0.000000       0.000000\n",
       "50%       23.659750     20.921188       6.000000      0.000000       0.000000\n",
       "75%       41.204400     81.000000     184.000000      2.000000      18.000000\n",
       "max       71.706900    178.065000  965785.000000  54881.000000  117727.000000"
      ]
     },
     "execution_count": 4,
     "metadata": {},
     "output_type": "execute_result"
    }
   ],
   "source": [
    "data.describe()"
   ]
  },
  {
   "cell_type": "markdown",
   "metadata": {},
   "source": [
    "We see that the count is the same for values in the columns *Lat*, *Long*, *Confirmed*, *Deaths* and *Recovered*.\n",
    "\n",
    "There is, however, something strange with this dataset: The minimum value for *Confirmed* and *Deaths* is -1. Because negative values don't make sense for these two columns, we will use **mean imputation** to replace them with the average number for each column."
   ]
  },
  {
   "cell_type": "code",
   "execution_count": 5,
   "metadata": {},
   "outputs": [
    {
     "data": {
      "text/html": [
       "<div>\n",
       "<style scoped>\n",
       "    .dataframe tbody tr th:only-of-type {\n",
       "        vertical-align: middle;\n",
       "    }\n",
       "\n",
       "    .dataframe tbody tr th {\n",
       "        vertical-align: top;\n",
       "    }\n",
       "\n",
       "    .dataframe thead th {\n",
       "        text-align: right;\n",
       "    }\n",
       "</style>\n",
       "<table border=\"1\" class=\"dataframe\">\n",
       "  <thead>\n",
       "    <tr style=\"text-align: right;\">\n",
       "      <th></th>\n",
       "      <th>Lat</th>\n",
       "      <th>Long</th>\n",
       "      <th>Confirmed</th>\n",
       "      <th>Deaths</th>\n",
       "      <th>Recovered</th>\n",
       "    </tr>\n",
       "  </thead>\n",
       "  <tbody>\n",
       "    <tr>\n",
       "      <th>count</th>\n",
       "      <td>25152.000000</td>\n",
       "      <td>25152.000000</td>\n",
       "      <td>25152.000000</td>\n",
       "      <td>25152.000000</td>\n",
       "      <td>25152.000000</td>\n",
       "    </tr>\n",
       "    <tr>\n",
       "      <th>mean</th>\n",
       "      <td>21.433571</td>\n",
       "      <td>22.597991</td>\n",
       "      <td>2432.399240</td>\n",
       "      <td>148.055347</td>\n",
       "      <td>607.899531</td>\n",
       "    </tr>\n",
       "    <tr>\n",
       "      <th>std</th>\n",
       "      <td>24.740912</td>\n",
       "      <td>70.570899</td>\n",
       "      <td>23545.569393</td>\n",
       "      <td>1561.520830</td>\n",
       "      <td>5210.234488</td>\n",
       "    </tr>\n",
       "    <tr>\n",
       "      <th>min</th>\n",
       "      <td>-51.796300</td>\n",
       "      <td>-135.000000</td>\n",
       "      <td>0.000000</td>\n",
       "      <td>0.000000</td>\n",
       "      <td>0.000000</td>\n",
       "    </tr>\n",
       "    <tr>\n",
       "      <th>25%</th>\n",
       "      <td>7.000000</td>\n",
       "      <td>-19.020800</td>\n",
       "      <td>0.000000</td>\n",
       "      <td>0.000000</td>\n",
       "      <td>0.000000</td>\n",
       "    </tr>\n",
       "    <tr>\n",
       "      <th>50%</th>\n",
       "      <td>23.659750</td>\n",
       "      <td>20.921188</td>\n",
       "      <td>6.000000</td>\n",
       "      <td>0.000000</td>\n",
       "      <td>0.000000</td>\n",
       "    </tr>\n",
       "    <tr>\n",
       "      <th>75%</th>\n",
       "      <td>41.204400</td>\n",
       "      <td>81.000000</td>\n",
       "      <td>185.000000</td>\n",
       "      <td>2.000000</td>\n",
       "      <td>18.000000</td>\n",
       "    </tr>\n",
       "    <tr>\n",
       "      <th>max</th>\n",
       "      <td>71.706900</td>\n",
       "      <td>178.065000</td>\n",
       "      <td>965785.000000</td>\n",
       "      <td>54881.000000</td>\n",
       "      <td>117727.000000</td>\n",
       "    </tr>\n",
       "  </tbody>\n",
       "</table>\n",
       "</div>"
      ],
      "text/plain": [
       "                Lat          Long      Confirmed        Deaths      Recovered\n",
       "count  25152.000000  25152.000000   25152.000000  25152.000000   25152.000000\n",
       "mean      21.433571     22.597991    2432.399240    148.055347     607.899531\n",
       "std       24.740912     70.570899   23545.569393   1561.520830    5210.234488\n",
       "min      -51.796300   -135.000000       0.000000      0.000000       0.000000\n",
       "25%        7.000000    -19.020800       0.000000      0.000000       0.000000\n",
       "50%       23.659750     20.921188       6.000000      0.000000       0.000000\n",
       "75%       41.204400     81.000000     185.000000      2.000000      18.000000\n",
       "max       71.706900    178.065000  965785.000000  54881.000000  117727.000000"
      ]
     },
     "execution_count": 5,
     "metadata": {},
     "output_type": "execute_result"
    }
   ],
   "source": [
    "average_confirmed_count = data['Confirmed'].mean()\n",
    "data.loc[(data['Confirmed'] < 0), 'Confirmed'] = average_confirmed_count\n",
    "\n",
    "average_death_count = data['Deaths'].mean()\n",
    "data.loc[(data['Deaths'] < 0), 'Deaths'] = average_death_count\n",
    "\n",
    "data.describe()"
   ]
  },
  {
   "cell_type": "markdown",
   "metadata": {},
   "source": [
    "Now  those columns make more sense.\n",
    "\n",
    "Also, to ensure data integrity, we will replace any missing values with 0s."
   ]
  },
  {
   "cell_type": "code",
   "execution_count": 6,
   "metadata": {},
   "outputs": [],
   "source": [
    "data[['Confirmed', 'Deaths', 'Recovered']] = data[['Confirmed', 'Deaths', 'Recovered']].fillna(0)"
   ]
  },
  {
   "cell_type": "markdown",
   "metadata": {},
   "source": [
    "### Testing data"
   ]
  },
  {
   "cell_type": "code",
   "execution_count": 7,
   "metadata": {},
   "outputs": [],
   "source": [
    "assert len(data.loc[(data['Deaths'] < 0)]) == 0\n",
    "\n",
    "assert len(data.loc[(data['Confirmed'] < 0)]) == 0\n",
    "\n",
    "assert len(data.loc[(data['Recovered'] < 0)]) == 0"
   ]
  },
  {
   "cell_type": "markdown",
   "metadata": {},
   "source": [
    "It would be a shame to lose all this tidied up data. Let's save it."
   ]
  },
  {
   "cell_type": "code",
   "execution_count": 8,
   "metadata": {},
   "outputs": [],
   "source": [
    "data.to_csv('data/covid19_clean.csv', index=False)"
   ]
  },
  {
   "cell_type": "markdown",
   "metadata": {},
   "source": [
    "We'll now take a look at the scatterplot matrix now that we've tidied the data:"
   ]
  },
  {
   "cell_type": "code",
   "execution_count": 9,
   "metadata": {},
   "outputs": [],
   "source": [
    "data_clean = pd.read_csv('data/covid19_clean.csv')\n",
    "data_clean.fillna(data_clean.mean(), inplace=True)\n",
    "# sb.pairplot(data.dropna())"
   ]
  },
  {
   "cell_type": "markdown",
   "metadata": {},
   "source": [
    "  "
   ]
  },
  {
   "cell_type": "markdown",
   "metadata": {},
   "source": [
    "---\n",
    "\n",
    "# SVM"
   ]
  },
  {
   "cell_type": "code",
   "execution_count": 10,
   "metadata": {},
   "outputs": [],
   "source": [
    "inputs = data_clean[['Lat', 'Long', 'Confirmed', 'Deaths', 'Recovered']].values\n",
    "labels = data_clean[['Province/State', 'Country/Region', 'Date']].values\n",
    "\n",
    "import numpy as np\n",
    "\n",
    "dates = pd.unique(data_clean['Date'])\n",
    "countries = pd.unique(data_clean['Country/Region'])\n",
    "\n",
    "world_cases = []\n",
    "world_deaths = []\n",
    "world_recovered = []\n",
    "\n",
    "for date in dates:\n",
    "    confirmed = data_clean.loc[data_clean['Date'] == date, 'Confirmed']\n",
    "    deaths = data_clean.loc[data_clean['Date'] == date, 'Deaths']\n",
    "    recovered = data_clean.loc[data_clean['Date'] == date, 'Recovered']\n",
    "\n",
    "    total_confirmed = confirmed.sum()\n",
    "    total_deaths = deaths.sum()\n",
    "    total_recovered = recovered.sum()\n",
    "    \n",
    "    world_cases.append(total_confirmed)\n",
    "    world_deaths.append(total_deaths)\n",
    "    world_recovered.append(total_recovered)\n",
    "\n",
    "# Total days since the beggining of the epidemic\n",
    "epidemic_days = np.array([i for i in range(len(dates))]).reshape(-1, 1)\n",
    "\n",
    "# Number of confirmed cases worldwide\n",
    "world_cases = np.array(world_cases).reshape(-1, 1)\n",
    "\n",
    "# Number of death counts worldwide\n",
    "world_deaths = np.array(world_deaths).reshape(-1, 1)\n",
    "\n",
    "# Number of recovered patients worldwide\n",
    "world_recovered = np.array(world_recovered).reshape(-1, 1)"
   ]
  },
  {
   "cell_type": "markdown",
   "metadata": {},
   "source": [
    "## Confirmed cases"
   ]
  },
  {
   "cell_type": "code",
   "execution_count": 11,
   "metadata": {},
   "outputs": [
    {
     "data": {
      "image/png": "[encoded data removed]",
      "text/plain": [
       "<Figure size 432x288 with 1 Axes>"
      ]
     },
     "metadata": {
      "needs_background": "light"
     },
     "output_type": "display_data"
    }
   ],
   "source": [
    "plt.scatter(x=epidemic_days, y=world_cases)\n",
    "plt.xlabel('Number of days since 22/01/2020')\n",
    "plt.ylabel('Number of confirmed cases')\n",
    "plt.show()"
   ]
  },
  {
   "cell_type": "markdown",
   "metadata": {},
   "source": [
    "From this graph we can see that the growth in numbers follows a polynomial function, so we are using a polynomial kernel in SVM.\n",
    "### Testing model for overfiting"
   ]
  },
  {
   "cell_type": "code",
   "execution_count": 30,
   "metadata": {
    "scrolled": true
   },
   "outputs": [
    {
     "data": {
      "image/png": "[encoded data removed]",
      "text/plain": [
       "<Figure size 432x288 with 1 Axes>"
      ]
     },
     "metadata": {
      "needs_background": "light"
     },
     "output_type": "display_data"
    }
   ],
   "source": [
    "from sklearn.svm import SVR\n",
    "from sklearn.model_selection import train_test_split\n",
    "from sklearn.metrics import mean_squared_error\n",
    "\n",
    "mse_values = []\n",
    "\n",
    "for repetition in range(1000):\n",
    "    # Predict confirmed cases \n",
    "    (X_train,\n",
    "     X_test,\n",
    "     y_train,\n",
    "     y_test) = train_test_split(epidemic_days, world_cases, test_size=0.25) \n",
    "        \n",
    "    svm = SVR(kernel='poly')\n",
    "    svm.fit(X_train, y_train.ravel())\n",
    "    mse = mean_squared_error(X_test, y_test)\n",
    "    mse_values.append(mse)\n",
    "    \n",
    "plt.hist(mse_values)\n",
    "plt.xlabel('MSE value')\n",
    "plt.ylabel('# of tests')\n",
    "plt.show()"
   ]
  },
  {
   "cell_type": "markdown",
   "metadata": {},
   "source": [
    "It's obvious our model performs differently depending on the subset of data it's trained on. We can confirmed there is **overfitting** happening.  \n",
    "We used MSE to evaluate the model performance since we are dealing with a regression model.  \n",
    "\n",
    "### Testing for overfiting with K Folds"
   ]
  },
  {
   "cell_type": "code",
   "execution_count": 31,
   "metadata": {},
   "outputs": [
    {
     "data": {
      "image/png": "[encoded data removed]",
      "text/plain": [
       "<Figure size 432x288 with 1 Axes>"
      ]
     },
     "metadata": {
      "needs_background": "light"
     },
     "output_type": "display_data"
    }
   ],
   "source": [
    "from sklearn.model_selection import cross_val_score\n",
    "from sklearn.metrics import make_scorer, mean_squared_error\n",
    "\n",
    "svm = SVR(kernel='poly')\n",
    "\n",
    "scorer = make_scorer(mean_squared_error)\n",
    "\n",
    "cv_scores = cross_val_score(svm, \n",
    "                            epidemic_days, \n",
    "                            world_cases.ravel(), \n",
    "                            cv=10, \n",
    "                            scoring=scorer)\n",
    "\n",
    "plt.ylabel('# fold')\n",
    "plt.xlabel('MSE value')\n",
    "plt.hist(cv_scores)\n",
    "plt.title('Average MSE: {}'.format(np.mean(cv_scores)))\n",
    "plt.savefig('graphs/img1.png')\n",
    "plt.show()"
   ]
  },
  {
   "cell_type": "markdown",
   "metadata": {},
   "source": [
    "Using kfolds we were able to acheive a more consistant rating specially near 0.  \n",
    "\n",
    "Knowing this we can start to test with diferent parameters, in the 2 tests before we ran with defaults values for C and epsilon and a polynomial kernerl with a degree of 4. Now we are doing a grid search for the best values of C and epsilon. We are also spliting our data to have an independent set to test our model.  \n",
    "\n",
    "*Beware this next block takes sometime to finish*"
   ]
  },
  {
   "cell_type": "code",
   "execution_count": 14,
   "metadata": {},
   "outputs": [
    {
     "name": "stdout",
     "output_type": "stream",
     "text": [
      "Best score: 12224217849.235302\n",
      "Best parameters: {'C': 23.0, 'epsilon': 0.01}\n"
     ]
    }
   ],
   "source": [
    "from sklearn.model_selection import GridSearchCV\n",
    "\n",
    "svm = SVR(kernel='poly', degree=4)\n",
    "\n",
    "parameter_grid = {'C': np.arange(1.0, 40, 0.5),\n",
    "                  'epsilon': np.linspace(0.01, 10)}\n",
    "\n",
    "grid_search = GridSearchCV(svm,\n",
    "                           param_grid=parameter_grid,\n",
    "                           cv=10,\n",
    "                           scoring='neg_mean_squared_error')\n",
    "\n",
    "grid_search.fit(epidemic_days, world_cases.ravel())\n",
    "\n",
    "print('Best score: {}'.format(abs(grid_search.best_score_)))\n",
    "print('Best parameters: {}'.format(grid_search.best_params_))"
   ]
  },
  {
   "cell_type": "code",
   "execution_count": 15,
   "metadata": {
    "scrolled": true
   },
   "outputs": [
    {
     "name": "stdout",
     "output_type": "stream",
     "text": [
      "{'C': 23.0, 'cache_size': 200, 'coef0': 0.0, 'degree': 4, 'epsilon': 0.01, 'gamma': 'scale', 'kernel': 'poly', 'max_iter': -1, 'shrinking': True, 'tol': 0.001, 'verbose': False}\n"
     ]
    }
   ],
   "source": [
    "svm_confirmed = grid_search.best_estimator_\n",
    "print(svm_confirmed.get_params())"
   ]
  },
  {
   "cell_type": "code",
   "execution_count": 16,
   "metadata": {
    "scrolled": false
   },
   "outputs": [
    {
     "data": {
      "image/png": "[encoded data removed]",
      "text/plain": [
       "<Figure size 1080x720 with 1 Axes>"
      ]
     },
     "metadata": {
      "needs_background": "light"
     },
     "output_type": "display_data"
    }
   ],
   "source": [
    "from sklearn.model_selection import cross_val_predict\n",
    "\n",
    "scores = svm_confirmed.predict(epidemic_days)\n",
    "\n",
    "# To predict an extra 10 days from the ones in the dataset\n",
    "# test_days = np.array([i for i in range(len(dates) +10)]).reshape(-1, 1)\n",
    "# test = svm_confirmed.predict(test_days)\n",
    "\n",
    "plt.figure(figsize=(15, 10))\n",
    "plt.scatter(x=epidemic_days, y=world_cases)\n",
    "plt.plot(scores, color='red')\n",
    "# plt.plot(aa, color='black')\n",
    "plt.xticks(np.arange(min(epidemic_days), max(epidemic_days)+10, 5.0))\n",
    "plt.title('Number of confirmed cases VS SVM prediction', fontsize=18)\n",
    "plt.xlabel('Number of days since 22/01/20', fontsize=14)\n",
    "plt.ylabel('Number of confirmed cases', fontsize=14)\n",
    "plt.savefig('graphs/svr_confirmed.png')\n",
    "plt.show()"
   ]
  },
  {
   "cell_type": "markdown",
   "metadata": {},
   "source": [
    "## Number of deaths"
   ]
  },
  {
   "cell_type": "code",
   "execution_count": 17,
   "metadata": {},
   "outputs": [
    {
     "data": {
      "image/png": "[encoded data removed]",
      "text/plain": [
       "<Figure size 432x288 with 1 Axes>"
      ]
     },
     "metadata": {
      "needs_background": "light"
     },
     "output_type": "display_data"
    }
   ],
   "source": [
    "plt.scatter(x=epidemic_days, y=world_deaths)\n",
    "plt.xlabel('Number of days since 22/01/2020')\n",
    "plt.ylabel('Number of confirmed cases')\n",
    "plt.show()"
   ]
  },
  {
   "cell_type": "markdown",
   "metadata": {},
   "source": [
    "From this graph we can see that the growth in numbers follows a polynomial function, so we are using a polynomial kernel in SVM.\n",
    "### Testing model for overfiting"
   ]
  },
  {
   "cell_type": "code",
   "execution_count": 18,
   "metadata": {
    "scrolled": false
   },
   "outputs": [
    {
     "data": {
      "image/png": "[encoded data removed]",
      "text/plain": [
       "<Figure size 432x288 with 1 Axes>"
      ]
     },
     "metadata": {
      "needs_background": "light"
     },
     "output_type": "display_data"
    }
   ],
   "source": [
    "mse_values = []\n",
    "\n",
    "for repetition in range(1000):\n",
    "    # Predict confirmed cases \n",
    "    (X_train,\n",
    "     X_test,\n",
    "     y_train,\n",
    "     y_test) = train_test_split(epidemic_days, world_deaths, test_size=0.25) \n",
    "        \n",
    "    svm = SVR(kernel='poly')\n",
    "    svm.fit(X_train, y_train.ravel())\n",
    "    mse = mean_squared_error(X_test, y_test)\n",
    "    mse_values.append(mse)\n",
    "    \n",
    "plt.hist(mse_values)\n",
    "plt.xlabel('MSE value')\n",
    "plt.ylabel('# of tests')\n",
    "plt.show()"
   ]
  },
  {
   "cell_type": "markdown",
   "metadata": {},
   "source": [
    "It's obvious our model performs differently depending on the subset of data it's trained on. We can confirmed there is **overfitting** happening.  \n",
    "We used MSE to evaluate the model performance since we are dealing with a regression model.  \n",
    "\n",
    "### Testing for overfiting with K Folds"
   ]
  },
  {
   "cell_type": "code",
   "execution_count": 19,
   "metadata": {
    "scrolled": true
   },
   "outputs": [
    {
     "data": {
      "image/png": "[encoded data removed]",
      "text/plain": [
       "<Figure size 432x288 with 1 Axes>"
      ]
     },
     "metadata": {
      "needs_background": "light"
     },
     "output_type": "display_data"
    }
   ],
   "source": [
    "svm = SVR(kernel='poly')\n",
    "\n",
    "scorer = make_scorer(mean_squared_error)\n",
    "\n",
    "cv_scores = cross_val_score(svm, \n",
    "                            epidemic_days, \n",
    "                            world_deaths.ravel(), \n",
    "                            cv=10, \n",
    "                            scoring=scorer)\n",
    "\n",
    "plt.ylabel('# fold')\n",
    "plt.xlabel('MSE value')\n",
    "plt.hist(cv_scores)\n",
    "plt.title('Average MSE: {}'.format(np.mean(cv_scores)))\n",
    "plt.show()"
   ]
  },
  {
   "cell_type": "code",
   "execution_count": 20,
   "metadata": {},
   "outputs": [
    {
     "name": "stdout",
     "output_type": "stream",
     "text": [
      "Best score: 138081061.04791102\n",
      "Best parameters: {'C': 6.0, 'epsilon': 0.01}\n"
     ]
    }
   ],
   "source": [
    "svm = SVR(kernel='poly', degree=4)\n",
    "\n",
    "parameter_grid = {'C': np.arange(1.0, 40, 0.5),\n",
    "                  'epsilon': np.linspace(0.01, 10)}\n",
    "\n",
    "grid_search = GridSearchCV(svm,\n",
    "                           param_grid=parameter_grid,\n",
    "                           cv=10,\n",
    "                           scoring='neg_mean_squared_error')\n",
    "\n",
    "grid_search.fit(epidemic_days, world_deaths.ravel())\n",
    "\n",
    "print('Best score: {}'.format(abs(grid_search.best_score_)))\n",
    "print('Best parameters: {}'.format(grid_search.best_params_))"
   ]
  },
  {
   "cell_type": "code",
   "execution_count": 21,
   "metadata": {
    "scrolled": true
   },
   "outputs": [
    {
     "name": "stdout",
     "output_type": "stream",
     "text": [
      "{'C': 6.0, 'cache_size': 200, 'coef0': 0.0, 'degree': 4, 'epsilon': 0.01, 'gamma': 'scale', 'kernel': 'poly', 'max_iter': -1, 'shrinking': True, 'tol': 0.001, 'verbose': False}\n"
     ]
    }
   ],
   "source": [
    "svm_deaths = grid_search.best_estimator_\n",
    "print(svm_deaths.get_params())"
   ]
  },
  {
   "cell_type": "code",
   "execution_count": 22,
   "metadata": {},
   "outputs": [
    {
     "data": {
      "image/png": "[encoded data removed]",
      "text/plain": [
       "<Figure size 1080x720 with 1 Axes>"
      ]
     },
     "metadata": {
      "needs_background": "light"
     },
     "output_type": "display_data"
    }
   ],
   "source": [
    "scores = svm_deaths.predict(epidemic_days)\n",
    "\n",
    "# To predict an extra 10 days from the ones in the dataset\n",
    "# test_days = np.array([i for i in range(len(dates) +10)]).reshape(-1, 1)\n",
    "\n",
    "# test = svm_confirmed.predict(test_days)\n",
    "\n",
    "plt.figure(figsize=(15, 10))\n",
    "plt.scatter(x=epidemic_days, y=world_deaths)\n",
    "plt.plot(scores, color='red')\n",
    "# plt.plot(test, color='red')\n",
    "plt.xticks(np.arange(min(epidemic_days), max(epidemic_days)+10, 5.0))\n",
    "plt.title('Number of deaths VS SVM prediction', fontsize=18)\n",
    "plt.xlabel('Number of days since 22/01/20', fontsize=14)\n",
    "plt.ylabel('Number of deaths', fontsize=14)\n",
    "plt.savefig('graphs/svr_deaths.png')\n",
    "plt.show()"
   ]
  },
  {
   "cell_type": "markdown",
   "metadata": {},
   "source": [
    "## Number of recovered cases"
   ]
  },
  {
   "cell_type": "code",
   "execution_count": 23,
   "metadata": {},
   "outputs": [
    {
     "data": {
      "image/png": "[encoded data removed]",
      "text/plain": [
       "<Figure size 432x288 with 1 Axes>"
      ]
     },
     "metadata": {
      "needs_background": "light"
     },
     "output_type": "display_data"
    }
   ],
   "source": [
    "plt.scatter(x=epidemic_days, y=world_recovered)\n",
    "plt.xlabel('Number of days since 22/01/2020')\n",
    "plt.ylabel('Number of confirmed cases')\n",
    "plt.show()"
   ]
  },
  {
   "cell_type": "markdown",
   "metadata": {},
   "source": [
    "From this graph we can see that the growth in numbers follows a polynomial function, so we are using a polynomial kernel in SVM.\n",
    "### Testing model for overfiting"
   ]
  },
  {
   "cell_type": "code",
   "execution_count": 24,
   "metadata": {
    "scrolled": false
   },
   "outputs": [
    {
     "data": {
      "image/png": "[encoded data removed]",
      "text/plain": [
       "<Figure size 432x288 with 1 Axes>"
      ]
     },
     "metadata": {
      "needs_background": "light"
     },
     "output_type": "display_data"
    }
   ],
   "source": [
    "mse_values = []\n",
    "\n",
    "for repetition in range(1000):\n",
    "    # Predict confirmed cases \n",
    "    (X_train,\n",
    "     X_test,\n",
    "     y_train,\n",
    "     y_test) = train_test_split(epidemic_days, world_recovered, test_size=0.25) \n",
    "        \n",
    "    svm = SVR(kernel='poly')\n",
    "    svm.fit(X_train, y_train.ravel())\n",
    "    mse = mean_squared_error(X_test, y_test)\n",
    "    mse_values.append(mse)\n",
    "    \n",
    "plt.hist(mse_values)\n",
    "plt.xlabel('MSE value')\n",
    "plt.ylabel('# of tests')\n",
    "plt.show()"
   ]
  },
  {
   "cell_type": "markdown",
   "metadata": {},
   "source": [
    "It's obvious our model performs differently depending on the subset of data it's trained on. We can confirmed there is **overfitting** happening.  \n",
    "We used MSE to evaluate the model performance since we are dealing with a regression model.  \n",
    "\n",
    "### Testing for overfiting with K Folds"
   ]
  },
  {
   "cell_type": "code",
   "execution_count": 25,
   "metadata": {
    "scrolled": true
   },
   "outputs": [
    {
     "data": {
      "image/png": "[encoded data removed]",
      "text/plain": [
       "<Figure size 432x288 with 1 Axes>"
      ]
     },
     "metadata": {
      "needs_background": "light"
     },
     "output_type": "display_data"
    }
   ],
   "source": [
    "svm = SVR(kernel='poly')\n",
    "\n",
    "scorer = make_scorer(mean_squared_error)\n",
    "\n",
    "cv_scores = cross_val_score(svm, \n",
    "                            epidemic_days, \n",
    "                            world_recovered.ravel(), \n",
    "                            cv=10, \n",
    "                            scoring=scorer)\n",
    "\n",
    "plt.ylabel('# fold')\n",
    "plt.xlabel('MSE value')\n",
    "plt.hist(cv_scores)\n",
    "plt.title('Average MSE: {}'.format(np.mean(cv_scores)))\n",
    "plt.show()"
   ]
  },
  {
   "cell_type": "code",
   "execution_count": 26,
   "metadata": {},
   "outputs": [
    {
     "name": "stdout",
     "output_type": "stream",
     "text": [
      "Best score: 1086029778.4621997\n",
      "Best parameters: {'C': 27.5, 'epsilon': 0.01}\n"
     ]
    }
   ],
   "source": [
    "svm = SVR(kernel='poly', degree=4)\n",
    "\n",
    "parameter_grid = {'C': np.arange(1.0, 40, 0.5),\n",
    "                  'epsilon': np.linspace(0.01, 10)}\n",
    "\n",
    "grid_search = GridSearchCV(svm,\n",
    "                           param_grid=parameter_grid,\n",
    "                           cv=10,\n",
    "                           scoring='neg_mean_squared_error')\n",
    "\n",
    "grid_search.fit(epidemic_days, world_recovered.ravel())\n",
    "\n",
    "print('Best score: {}'.format(abs(grid_search.best_score_)))\n",
    "print('Best parameters: {}'.format(grid_search.best_params_))"
   ]
  },
  {
   "cell_type": "code",
   "execution_count": 27,
   "metadata": {
    "scrolled": true
   },
   "outputs": [
    {
     "name": "stdout",
     "output_type": "stream",
     "text": [
      "{'C': 27.5, 'cache_size': 200, 'coef0': 0.0, 'degree': 4, 'epsilon': 0.01, 'gamma': 'scale', 'kernel': 'poly', 'max_iter': -1, 'shrinking': True, 'tol': 0.001, 'verbose': False}\n"
     ]
    }
   ],
   "source": [
    "svm_recoveries = grid_search.best_estimator_\n",
    "print(svm_recoveries.get_params())"
   ]
  },
  {
   "cell_type": "code",
   "execution_count": 29,
   "metadata": {
    "scrolled": false
   },
   "outputs": [
    {
     "data": {
      "image/png": "[encoded data removed]",
      "text/plain": [
       "<Figure size 1080x720 with 1 Axes>"
      ]
     },
     "metadata": {
      "needs_background": "light"
     },
     "output_type": "display_data"
    }
   ],
   "source": [
    "scores = svm_recoveries.predict(epidemic_days)\n",
    "\n",
    "# To predict an extra 10 days from the ones in the dataset\n",
    "# test_days = np.array([i for i in range(len(dates) +10)]).reshape(-1, 1)\n",
    "\n",
    "# test = svm_confirmed.predict(test_days)\n",
    "\n",
    "plt.figure(figsize=(15, 10))\n",
    "plt.scatter(x=epidemic_days, y=world_recovered)\n",
    "plt.plot(scores, color='red')\n",
    "# plt.plot(test, color='red')\n",
    "plt.xticks(np.arange(min(epidemic_days), max(epidemic_days)+10, 5.0))\n",
    "plt.title('Number of recovered cases VS SVM prediction', fontsize=18)\n",
    "plt.xlabel('Number of days since 22/01/20', fontsize=14)\n",
    "plt.ylabel('Number of recoveries', fontsize=14)\n",
    "plt.savefig('graphs/svr_recovered.png')\n",
    "plt.show()"
   ]
  },
  {
   "cell_type": "markdown",
   "metadata": {},
   "source": [
    "## Decision Tree"
   ]
  },
  {
   "cell_type": "code",
   "execution_count": null,
   "metadata": {},
   "outputs": [],
   "source": []
  }
 ],
 "metadata": {
  "kernelspec": {
   "display_name": "Python 3",
   "language": "python",
   "name": "python3"
  },
  "language_info": {
   "codemirror_mode": {
    "name": "ipython",
    "version": 3
   },
   "file_extension": ".py",
   "mimetype": "text/x-python",
   "name": "python",
   "nbconvert_exporter": "python",
   "pygments_lexer": "ipython3",
   "version": "3.8.2"
  }
 },
 "nbformat": 4,
 "nbformat_minor": 2
}
