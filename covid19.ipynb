{
 "cells": [
  {
   "cell_type": "markdown",
   "metadata": {},
   "source": [
    "# COVID-19 - analysis and prediction"
   ]
  },
  {
   "cell_type": "markdown",
   "metadata": {},
   "source": [
    "## Checking the data\n",
    "First, it is required to analyse our dataset so that it is sure to not have any problems. To do so, we will print the first entries of the dataset:"
   ]
  },
  {
   "cell_type": "code",
   "execution_count": 5,
   "metadata": {},
   "outputs": [
    {
     "output_type": "execute_result",
     "data": {
      "text/plain": "  Province/State Country/Region      Lat     Long       Date  Confirmed  \\\n0            NaN    Afghanistan  33.0000  65.0000 2020-01-22          0   \n1            NaN        Albania  41.1533  20.1683 2020-01-22          0   \n2            NaN        Algeria  28.0339   1.6596 2020-01-22          0   \n3            NaN        Andorra  42.5063   1.5218 2020-01-22          0   \n4            NaN         Angola -11.2027  17.8739 2020-01-22          0   \n\n   Deaths  Recovered  \n0       0          0  \n1       0          0  \n2       0          0  \n3       0          0  \n4       0          0  ",
      "text/html": "<div>\n<style scoped>\n    .dataframe tbody tr th:only-of-type {\n        vertical-align: middle;\n    }\n\n    .dataframe tbody tr th {\n        vertical-align: top;\n    }\n\n    .dataframe thead th {\n        text-align: right;\n    }\n</style>\n<table border=\"1\" class=\"dataframe\">\n  <thead>\n    <tr style=\"text-align: right;\">\n      <th></th>\n      <th>Province/State</th>\n      <th>Country/Region</th>\n      <th>Lat</th>\n      <th>Long</th>\n      <th>Date</th>\n      <th>Confirmed</th>\n      <th>Deaths</th>\n      <th>Recovered</th>\n    </tr>\n  </thead>\n  <tbody>\n    <tr>\n      <th>0</th>\n      <td>NaN</td>\n      <td>Afghanistan</td>\n      <td>33.0000</td>\n      <td>65.0000</td>\n      <td>2020-01-22</td>\n      <td>0</td>\n      <td>0</td>\n      <td>0</td>\n    </tr>\n    <tr>\n      <th>1</th>\n      <td>NaN</td>\n      <td>Albania</td>\n      <td>41.1533</td>\n      <td>20.1683</td>\n      <td>2020-01-22</td>\n      <td>0</td>\n      <td>0</td>\n      <td>0</td>\n    </tr>\n    <tr>\n      <th>2</th>\n      <td>NaN</td>\n      <td>Algeria</td>\n      <td>28.0339</td>\n      <td>1.6596</td>\n      <td>2020-01-22</td>\n      <td>0</td>\n      <td>0</td>\n      <td>0</td>\n    </tr>\n    <tr>\n      <th>3</th>\n      <td>NaN</td>\n      <td>Andorra</td>\n      <td>42.5063</td>\n      <td>1.5218</td>\n      <td>2020-01-22</td>\n      <td>0</td>\n      <td>0</td>\n      <td>0</td>\n    </tr>\n    <tr>\n      <th>4</th>\n      <td>NaN</td>\n      <td>Angola</td>\n      <td>-11.2027</td>\n      <td>17.8739</td>\n      <td>2020-01-22</td>\n      <td>0</td>\n      <td>0</td>\n      <td>0</td>\n    </tr>\n  </tbody>\n</table>\n</div>"
     },
     "metadata": {},
     "execution_count": 5
    }
   ],
   "source": [
    "%matplotlib inline\n",
    "import pandas as pd\n",
    "import matplotlib.pyplot as plt\n",
    "import seaborn as sb\n",
    "data = pd.read_csv('data/covid19.csv', parse_dates=['Date'])\n",
    "data.head()"
   ]
  },
  {
   "cell_type": "markdown",
   "metadata": {},
   "source": [
    "The first problem we can identify is that some entries don't have a value on the *Country/Region* column.\n",
    "\n",
    "We can fix this by assigning the value 'NA' to those entries:"
   ]
  },
  {
   "cell_type": "code",
   "execution_count": 8,
   "metadata": {},
   "outputs": [
    {
     "output_type": "execute_result",
     "data": {
      "text/plain": "  Province/State Country/Region      Lat     Long       Date  Confirmed  \\\n0                   Afghanistan  33.0000  65.0000 2020-01-22          0   \n1                       Albania  41.1533  20.1683 2020-01-22          0   \n2                       Algeria  28.0339   1.6596 2020-01-22          0   \n3                       Andorra  42.5063   1.5218 2020-01-22          0   \n4                        Angola -11.2027  17.8739 2020-01-22          0   \n\n   Deaths  Recovered  \n0       0          0  \n1       0          0  \n2       0          0  \n3       0          0  \n4       0          0  ",
      "text/html": "<div>\n<style scoped>\n    .dataframe tbody tr th:only-of-type {\n        vertical-align: middle;\n    }\n\n    .dataframe tbody tr th {\n        vertical-align: top;\n    }\n\n    .dataframe thead th {\n        text-align: right;\n    }\n</style>\n<table border=\"1\" class=\"dataframe\">\n  <thead>\n    <tr style=\"text-align: right;\">\n      <th></th>\n      <th>Province/State</th>\n      <th>Country/Region</th>\n      <th>Lat</th>\n      <th>Long</th>\n      <th>Date</th>\n      <th>Confirmed</th>\n      <th>Deaths</th>\n      <th>Recovered</th>\n    </tr>\n  </thead>\n  <tbody>\n    <tr>\n      <th>0</th>\n      <td></td>\n      <td>Afghanistan</td>\n      <td>33.0000</td>\n      <td>65.0000</td>\n      <td>2020-01-22</td>\n      <td>0</td>\n      <td>0</td>\n      <td>0</td>\n    </tr>\n    <tr>\n      <th>1</th>\n      <td></td>\n      <td>Albania</td>\n      <td>41.1533</td>\n      <td>20.1683</td>\n      <td>2020-01-22</td>\n      <td>0</td>\n      <td>0</td>\n      <td>0</td>\n    </tr>\n    <tr>\n      <th>2</th>\n      <td></td>\n      <td>Algeria</td>\n      <td>28.0339</td>\n      <td>1.6596</td>\n      <td>2020-01-22</td>\n      <td>0</td>\n      <td>0</td>\n      <td>0</td>\n    </tr>\n    <tr>\n      <th>3</th>\n      <td></td>\n      <td>Andorra</td>\n      <td>42.5063</td>\n      <td>1.5218</td>\n      <td>2020-01-22</td>\n      <td>0</td>\n      <td>0</td>\n      <td>0</td>\n    </tr>\n    <tr>\n      <th>4</th>\n      <td></td>\n      <td>Angola</td>\n      <td>-11.2027</td>\n      <td>17.8739</td>\n      <td>2020-01-22</td>\n      <td>0</td>\n      <td>0</td>\n      <td>0</td>\n    </tr>\n  </tbody>\n</table>\n</div>"
     },
     "metadata": {},
     "execution_count": 8
    }
   ],
   "source": [
    "# filling missing values \n",
    "data[['Province/State']] = data[['Province/State']].fillna('')\n",
    "data.head()"
   ]
  },
  {
   "cell_type": "markdown",
   "metadata": {},
   "source": [
    "We can now take a look at some summary statistics about the data set:"
   ]
  },
  {
   "cell_type": "code",
   "execution_count": 22,
   "metadata": {},
   "outputs": [
    {
     "output_type": "execute_result",
     "data": {
      "text/plain": "                Lat          Long      Confirmed        Deaths      Recovered\ncount  24890.000000  24890.000000   24890.000000  24890.000000   24890.000000\nmean      21.433571     22.597991    2336.763198    141.207915     580.246605\nstd       24.740917     70.570914   22688.167259   1499.521732    5021.307422\nmin      -51.796300   -135.000000      -1.000000     -1.000000       0.000000\n25%        7.000000    -19.020800       0.000000      0.000000       0.000000\n50%       23.659750     20.921188       5.000000      0.000000       0.000000\n75%       41.204400     81.000000     176.000000      2.000000      16.000000\nmax       71.706900    178.065000  938154.000000  53755.000000  109800.000000",
      "text/html": "<div>\n<style scoped>\n    .dataframe tbody tr th:only-of-type {\n        vertical-align: middle;\n    }\n\n    .dataframe tbody tr th {\n        vertical-align: top;\n    }\n\n    .dataframe thead th {\n        text-align: right;\n    }\n</style>\n<table border=\"1\" class=\"dataframe\">\n  <thead>\n    <tr style=\"text-align: right;\">\n      <th></th>\n      <th>Lat</th>\n      <th>Long</th>\n      <th>Confirmed</th>\n      <th>Deaths</th>\n      <th>Recovered</th>\n    </tr>\n  </thead>\n  <tbody>\n    <tr>\n      <th>count</th>\n      <td>24890.000000</td>\n      <td>24890.000000</td>\n      <td>24890.000000</td>\n      <td>24890.000000</td>\n      <td>24890.000000</td>\n    </tr>\n    <tr>\n      <th>mean</th>\n      <td>21.433571</td>\n      <td>22.597991</td>\n      <td>2336.763198</td>\n      <td>141.207915</td>\n      <td>580.246605</td>\n    </tr>\n    <tr>\n      <th>std</th>\n      <td>24.740917</td>\n      <td>70.570914</td>\n      <td>22688.167259</td>\n      <td>1499.521732</td>\n      <td>5021.307422</td>\n    </tr>\n    <tr>\n      <th>min</th>\n      <td>-51.796300</td>\n      <td>-135.000000</td>\n      <td>-1.000000</td>\n      <td>-1.000000</td>\n      <td>0.000000</td>\n    </tr>\n    <tr>\n      <th>25%</th>\n      <td>7.000000</td>\n      <td>-19.020800</td>\n      <td>0.000000</td>\n      <td>0.000000</td>\n      <td>0.000000</td>\n    </tr>\n    <tr>\n      <th>50%</th>\n      <td>23.659750</td>\n      <td>20.921188</td>\n      <td>5.000000</td>\n      <td>0.000000</td>\n      <td>0.000000</td>\n    </tr>\n    <tr>\n      <th>75%</th>\n      <td>41.204400</td>\n      <td>81.000000</td>\n      <td>176.000000</td>\n      <td>2.000000</td>\n      <td>16.000000</td>\n    </tr>\n    <tr>\n      <th>max</th>\n      <td>71.706900</td>\n      <td>178.065000</td>\n      <td>938154.000000</td>\n      <td>53755.000000</td>\n      <td>109800.000000</td>\n    </tr>\n  </tbody>\n</table>\n</div>"
     },
     "metadata": {},
     "execution_count": 22
    }
   ],
   "source": [
    "data.describe()"
   ]
  },
  {
   "cell_type": "markdown",
   "metadata": {},
   "source": [
    "We see that the count is the same for values in the columns *Lat*, *Long*, *Confirmed*, *Deaths* and *Recovered*.\n",
    "\n",
    "There is, however, something strange with this dataset: The minimum value for *Confirmed* and *Deaths* is -1. Because negative values don't make sense for these two columns, we will use **mean imputation** to replace them with the average number for each column."
   ]
  },
  {
   "cell_type": "code",
   "execution_count": 23,
   "metadata": {},
   "outputs": [
    {
     "output_type": "execute_result",
     "data": {
      "text/plain": "                Lat          Long      Confirmed        Deaths      Recovered\ncount  24890.000000  24890.000000   24890.000000  24890.000000   24890.000000\nmean      21.433571     22.597991    2338.359903    141.299330     580.246605\nstd       24.740917     70.570914   22688.084938   1499.517394    5021.307422\nmin      -51.796300   -135.000000       0.000000      0.000000       0.000000\n25%        7.000000    -19.020800       0.000000      0.000000       0.000000\n50%       23.659750     20.921188       6.000000      0.000000       0.000000\n75%       41.204400     81.000000     178.000000      2.000000      16.000000\nmax       71.706900    178.065000  938154.000000  53755.000000  109800.000000",
      "text/html": "<div>\n<style scoped>\n    .dataframe tbody tr th:only-of-type {\n        vertical-align: middle;\n    }\n\n    .dataframe tbody tr th {\n        vertical-align: top;\n    }\n\n    .dataframe thead th {\n        text-align: right;\n    }\n</style>\n<table border=\"1\" class=\"dataframe\">\n  <thead>\n    <tr style=\"text-align: right;\">\n      <th></th>\n      <th>Lat</th>\n      <th>Long</th>\n      <th>Confirmed</th>\n      <th>Deaths</th>\n      <th>Recovered</th>\n    </tr>\n  </thead>\n  <tbody>\n    <tr>\n      <th>count</th>\n      <td>24890.000000</td>\n      <td>24890.000000</td>\n      <td>24890.000000</td>\n      <td>24890.000000</td>\n      <td>24890.000000</td>\n    </tr>\n    <tr>\n      <th>mean</th>\n      <td>21.433571</td>\n      <td>22.597991</td>\n      <td>2338.359903</td>\n      <td>141.299330</td>\n      <td>580.246605</td>\n    </tr>\n    <tr>\n      <th>std</th>\n      <td>24.740917</td>\n      <td>70.570914</td>\n      <td>22688.084938</td>\n      <td>1499.517394</td>\n      <td>5021.307422</td>\n    </tr>\n    <tr>\n      <th>min</th>\n      <td>-51.796300</td>\n      <td>-135.000000</td>\n      <td>0.000000</td>\n      <td>0.000000</td>\n      <td>0.000000</td>\n    </tr>\n    <tr>\n      <th>25%</th>\n      <td>7.000000</td>\n      <td>-19.020800</td>\n      <td>0.000000</td>\n      <td>0.000000</td>\n      <td>0.000000</td>\n    </tr>\n    <tr>\n      <th>50%</th>\n      <td>23.659750</td>\n      <td>20.921188</td>\n      <td>6.000000</td>\n      <td>0.000000</td>\n      <td>0.000000</td>\n    </tr>\n    <tr>\n      <th>75%</th>\n      <td>41.204400</td>\n      <td>81.000000</td>\n      <td>178.000000</td>\n      <td>2.000000</td>\n      <td>16.000000</td>\n    </tr>\n    <tr>\n      <th>max</th>\n      <td>71.706900</td>\n      <td>178.065000</td>\n      <td>938154.000000</td>\n      <td>53755.000000</td>\n      <td>109800.000000</td>\n    </tr>\n  </tbody>\n</table>\n</div>"
     },
     "metadata": {},
     "execution_count": 23
    }
   ],
   "source": [
    "average_confirmed_count = data['Confirmed'].mean()\n",
    "data.loc[(data['Confirmed'] < 0), 'Confirmed'] = average_confirmed_count\n",
    "\n",
    "average_death_count = data['Deaths'].mean()\n",
    "data.loc[(data['Deaths'] < 0), 'Deaths'] = average_death_count\n",
    "\n",
    "data.describe()"
   ]
  },
  {
   "cell_type": "markdown",
   "metadata": {},
   "source": [
    "Now  those columns make more sense.\n",
    "\n",
    "Also, to ensure data integrity, we will replace any missing values with 0s."
   ]
  },
  {
   "cell_type": "code",
   "execution_count": 24,
   "metadata": {},
   "outputs": [],
   "source": [
    "data[['Confirmed', 'Deaths', 'Recovered']] = data[['Confirmed', 'Deaths', 'Recovered']].fillna(0)"
   ]
  },
  {
   "cell_type": "markdown",
   "metadata": {},
   "source": [
    "It would be a shame to lose all this tidied up data. Let's save it."
   ]
  },
  {
   "cell_type": "code",
   "execution_count": 25,
   "metadata": {},
   "outputs": [],
   "source": [
    "data.to_csv('data/covid19_clean.csv', index=False)"
   ]
  },
  {
   "cell_type": "markdown",
   "metadata": {},
   "source": [
    "We'll now take a look at the scatterplot matrix now that we've tidied the data:"
   ]
  },
  {
   "cell_type": "code",
   "execution_count": 35,
   "metadata": {},
   "outputs": [],
   "source": [
    "data_clean = pd.read_csv('data/covid19_clean.csv')\n",
    "data_clean.fillna(data_clean.mean(), inplace=True)\n",
    "# sb.pairplot(data.dropna())"
   ]
  },
  {
   "cell_type": "markdown",
   "metadata": {},
   "source": [
    "## Classification"
   ]
  },
  {
   "cell_type": "code",
   "execution_count": 36,
   "metadata": {},
   "outputs": [],
   "source": [
    "inputs = data_clean[['Lat', 'Long', 'Confirmed', 'Deaths', 'Recovered']].values"
   ]
  },
  {
   "cell_type": "code",
   "execution_count": 37,
   "metadata": {},
   "outputs": [],
   "source": [
    "labels = data_clean[['Province/State', 'Country/Region', 'Date']].values"
   ]
  }
 ],
 "metadata": {
  "language_info": {
   "codemirror_mode": {
    "name": "ipython",
    "version": 3
   },
   "file_extension": ".py",
   "mimetype": "text/x-python",
   "name": "python",
   "nbconvert_exporter": "python",
   "pygments_lexer": "ipython3",
   "version": "3.8.2-final"
  },
  "orig_nbformat": 2,
  "kernelspec": {
   "name": "python38264bitcovid19predictorpipenve13e9d087d09465982ad51fb70f783e4",
   "display_name": "Python 3.8.2 64-bit ('covid19-predictor': pipenv)"
  }
 },
 "nbformat": 4,
 "nbformat_minor": 2
}