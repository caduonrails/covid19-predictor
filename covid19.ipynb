{
 "cells": [
  {
   "cell_type": "markdown",
   "metadata": {},
   "source": [
    "# COVID-19 - analysis and prediction  \n",
    "\n",
    "\n",
    "### Table of Contents:  \n",
    "1. [Checking the data](#Checking-the-data)\n",
    "2. [Testing the data](#Testing-data)\n",
    "3. [SVM](#SVM)\n",
    "    - [Confirmed cases](#Confirmed-cases-SVM)\n",
    "    - [Confirmed deaths](#Confirmed-deaths-SVM)\n",
    "    - [Confirmed recoveries](#Confirmed-recoveries-SVM)\n",
    "4. [Neural Network](#Neural-Network)\n",
    "    - [Confirmed cases](#Confirmed-Cases-NN)\n",
    "    - [Confirmed deaths](#Confirmed-deaths-NN)\n",
    "    - [Confirmed recoveries](#Confirmed-recoveries-NN)\n",
    "5. [Decision Tree](#Decision-Tree)\n",
    "    - [Confirmed cases](#Confirmed-Cases-DT)\n",
    "    - [Confirmed deaths](#Confirmed-deaths-DT)\n",
    "    - [Confirmed recoveries](#Confirmed-recoveries-DT)"
   ]
  },
  {
   "cell_type": "markdown",
   "metadata": {},
   "source": [
    "## Checking the data\n",
    "First, it is required to analyse our dataset so that it is sure to not have any problems. To do so, we will print the first entries of the dataset:"
   ]
  },
  {
   "cell_type": "code",
   "execution_count": 1,
   "metadata": {},
   "outputs": [
    {
     "data": {
      "text/html": [
       "<div>\n",
       "<style scoped>\n",
       "    .dataframe tbody tr th:only-of-type {\n",
       "        vertical-align: middle;\n",
       "    }\n",
       "\n",
       "    .dataframe tbody tr th {\n",
       "        vertical-align: top;\n",
       "    }\n",
       "\n",
       "    .dataframe thead th {\n",
       "        text-align: right;\n",
       "    }\n",
       "</style>\n",
       "<table border=\"1\" class=\"dataframe\">\n",
       "  <thead>\n",
       "    <tr style=\"text-align: right;\">\n",
       "      <th></th>\n",
       "      <th>Province/State</th>\n",
       "      <th>Country/Region</th>\n",
       "      <th>Lat</th>\n",
       "      <th>Long</th>\n",
       "      <th>Date</th>\n",
       "      <th>Confirmed</th>\n",
       "      <th>Deaths</th>\n",
       "      <th>Recovered</th>\n",
       "    </tr>\n",
       "  </thead>\n",
       "  <tbody>\n",
       "    <tr>\n",
       "      <th>0</th>\n",
       "      <td>NaN</td>\n",
       "      <td>Afghanistan</td>\n",
       "      <td>33.0000</td>\n",
       "      <td>65.0000</td>\n",
       "      <td>2020-01-22</td>\n",
       "      <td>0</td>\n",
       "      <td>0</td>\n",
       "      <td>0</td>\n",
       "    </tr>\n",
       "    <tr>\n",
       "      <th>1</th>\n",
       "      <td>NaN</td>\n",
       "      <td>Albania</td>\n",
       "      <td>41.1533</td>\n",
       "      <td>20.1683</td>\n",
       "      <td>2020-01-22</td>\n",
       "      <td>0</td>\n",
       "      <td>0</td>\n",
       "      <td>0</td>\n",
       "    </tr>\n",
       "    <tr>\n",
       "      <th>2</th>\n",
       "      <td>NaN</td>\n",
       "      <td>Algeria</td>\n",
       "      <td>28.0339</td>\n",
       "      <td>1.6596</td>\n",
       "      <td>2020-01-22</td>\n",
       "      <td>0</td>\n",
       "      <td>0</td>\n",
       "      <td>0</td>\n",
       "    </tr>\n",
       "    <tr>\n",
       "      <th>3</th>\n",
       "      <td>NaN</td>\n",
       "      <td>Andorra</td>\n",
       "      <td>42.5063</td>\n",
       "      <td>1.5218</td>\n",
       "      <td>2020-01-22</td>\n",
       "      <td>0</td>\n",
       "      <td>0</td>\n",
       "      <td>0</td>\n",
       "    </tr>\n",
       "    <tr>\n",
       "      <th>4</th>\n",
       "      <td>NaN</td>\n",
       "      <td>Angola</td>\n",
       "      <td>-11.2027</td>\n",
       "      <td>17.8739</td>\n",
       "      <td>2020-01-22</td>\n",
       "      <td>0</td>\n",
       "      <td>0</td>\n",
       "      <td>0</td>\n",
       "    </tr>\n",
       "  </tbody>\n",
       "</table>\n",
       "</div>"
      ],
      "text/plain": [
       "  Province/State Country/Region      Lat     Long       Date  Confirmed  \\\n",
       "0            NaN    Afghanistan  33.0000  65.0000 2020-01-22          0   \n",
       "1            NaN        Albania  41.1533  20.1683 2020-01-22          0   \n",
       "2            NaN        Algeria  28.0339   1.6596 2020-01-22          0   \n",
       "3            NaN        Andorra  42.5063   1.5218 2020-01-22          0   \n",
       "4            NaN         Angola -11.2027  17.8739 2020-01-22          0   \n",
       "\n",
       "   Deaths  Recovered  \n",
       "0       0          0  \n",
       "1       0          0  \n",
       "2       0          0  \n",
       "3       0          0  \n",
       "4       0          0  "
      ]
     },
     "execution_count": 1,
     "metadata": {},
     "output_type": "execute_result"
    }
   ],
   "source": [
    "%matplotlib inline\n",
    "\n",
    "import pandas as pd\n",
    "import matplotlib.pyplot as plt\n",
    "import seaborn as sb\n",
    "\n",
    "data = pd.read_csv('data/covid19.csv', parse_dates=['Date'], infer_datetime_format=True)\n",
    "data.head()"
   ]
  },
  {
   "cell_type": "markdown",
   "metadata": {},
   "source": [
    "The first problem we can identify is that some entries don't have a value on the *Country/Region* column.\n",
    "\n",
    "We can fix this by assigning the value 'NA' to those entries:"
   ]
  },
  {
   "cell_type": "code",
   "execution_count": 2,
   "metadata": {
    "scrolled": true
   },
   "outputs": [
    {
     "data": {
      "text/html": [
       "<div>\n",
       "<style scoped>\n",
       "    .dataframe tbody tr th:only-of-type {\n",
       "        vertical-align: middle;\n",
       "    }\n",
       "\n",
       "    .dataframe tbody tr th {\n",
       "        vertical-align: top;\n",
       "    }\n",
       "\n",
       "    .dataframe thead th {\n",
       "        text-align: right;\n",
       "    }\n",
       "</style>\n",
       "<table border=\"1\" class=\"dataframe\">\n",
       "  <thead>\n",
       "    <tr style=\"text-align: right;\">\n",
       "      <th></th>\n",
       "      <th>Province/State</th>\n",
       "      <th>Country/Region</th>\n",
       "      <th>Lat</th>\n",
       "      <th>Long</th>\n",
       "      <th>Date</th>\n",
       "      <th>Confirmed</th>\n",
       "      <th>Deaths</th>\n",
       "      <th>Recovered</th>\n",
       "    </tr>\n",
       "  </thead>\n",
       "  <tbody>\n",
       "    <tr>\n",
       "      <th>0</th>\n",
       "      <td></td>\n",
       "      <td>Afghanistan</td>\n",
       "      <td>33.0000</td>\n",
       "      <td>65.0000</td>\n",
       "      <td>2020-01-22</td>\n",
       "      <td>0</td>\n",
       "      <td>0</td>\n",
       "      <td>0</td>\n",
       "    </tr>\n",
       "    <tr>\n",
       "      <th>1</th>\n",
       "      <td></td>\n",
       "      <td>Albania</td>\n",
       "      <td>41.1533</td>\n",
       "      <td>20.1683</td>\n",
       "      <td>2020-01-22</td>\n",
       "      <td>0</td>\n",
       "      <td>0</td>\n",
       "      <td>0</td>\n",
       "    </tr>\n",
       "    <tr>\n",
       "      <th>2</th>\n",
       "      <td></td>\n",
       "      <td>Algeria</td>\n",
       "      <td>28.0339</td>\n",
       "      <td>1.6596</td>\n",
       "      <td>2020-01-22</td>\n",
       "      <td>0</td>\n",
       "      <td>0</td>\n",
       "      <td>0</td>\n",
       "    </tr>\n",
       "    <tr>\n",
       "      <th>3</th>\n",
       "      <td></td>\n",
       "      <td>Andorra</td>\n",
       "      <td>42.5063</td>\n",
       "      <td>1.5218</td>\n",
       "      <td>2020-01-22</td>\n",
       "      <td>0</td>\n",
       "      <td>0</td>\n",
       "      <td>0</td>\n",
       "    </tr>\n",
       "    <tr>\n",
       "      <th>4</th>\n",
       "      <td></td>\n",
       "      <td>Angola</td>\n",
       "      <td>-11.2027</td>\n",
       "      <td>17.8739</td>\n",
       "      <td>2020-01-22</td>\n",
       "      <td>0</td>\n",
       "      <td>0</td>\n",
       "      <td>0</td>\n",
       "    </tr>\n",
       "  </tbody>\n",
       "</table>\n",
       "</div>"
      ],
      "text/plain": [
       "  Province/State Country/Region      Lat     Long       Date  Confirmed  \\\n",
       "0                   Afghanistan  33.0000  65.0000 2020-01-22          0   \n",
       "1                       Albania  41.1533  20.1683 2020-01-22          0   \n",
       "2                       Algeria  28.0339   1.6596 2020-01-22          0   \n",
       "3                       Andorra  42.5063   1.5218 2020-01-22          0   \n",
       "4                        Angola -11.2027  17.8739 2020-01-22          0   \n",
       "\n",
       "   Deaths  Recovered  \n",
       "0       0          0  \n",
       "1       0          0  \n",
       "2       0          0  \n",
       "3       0          0  \n",
       "4       0          0  "
      ]
     },
     "execution_count": 2,
     "metadata": {},
     "output_type": "execute_result"
    }
   ],
   "source": [
    "# filling missing values \n",
    "data[['Province/State']] = data[['Province/State']].fillna('')\n",
    "data.head()"
   ]
  },
  {
   "cell_type": "markdown",
   "metadata": {},
   "source": [
    "There were some comments on Kaggle about repeated lines, it seems this is not the case."
   ]
  },
  {
   "cell_type": "code",
   "execution_count": 3,
   "metadata": {},
   "outputs": [
    {
     "data": {
      "text/plain": [
       "Series([], dtype: bool)"
      ]
     },
     "execution_count": 3,
     "metadata": {},
     "output_type": "execute_result"
    }
   ],
   "source": [
    "duplicated_rows = data.duplicated()\n",
    "duplicated_rows[duplicated_rows == True]"
   ]
  },
  {
   "cell_type": "markdown",
   "metadata": {},
   "source": [
    "We can now take a look at some summary statistics about the data set:"
   ]
  },
  {
   "cell_type": "code",
   "execution_count": 4,
   "metadata": {},
   "outputs": [
    {
     "data": {
      "text/html": [
       "<div>\n",
       "<style scoped>\n",
       "    .dataframe tbody tr th:only-of-type {\n",
       "        vertical-align: middle;\n",
       "    }\n",
       "\n",
       "    .dataframe tbody tr th {\n",
       "        vertical-align: top;\n",
       "    }\n",
       "\n",
       "    .dataframe thead th {\n",
       "        text-align: right;\n",
       "    }\n",
       "</style>\n",
       "<table border=\"1\" class=\"dataframe\">\n",
       "  <thead>\n",
       "    <tr style=\"text-align: right;\">\n",
       "      <th></th>\n",
       "      <th>Lat</th>\n",
       "      <th>Long</th>\n",
       "      <th>Confirmed</th>\n",
       "      <th>Deaths</th>\n",
       "      <th>Recovered</th>\n",
       "    </tr>\n",
       "  </thead>\n",
       "  <tbody>\n",
       "    <tr>\n",
       "      <th>count</th>\n",
       "      <td>25152.000000</td>\n",
       "      <td>25152.000000</td>\n",
       "      <td>25152.000000</td>\n",
       "      <td>25152.000000</td>\n",
       "      <td>25152.000000</td>\n",
       "    </tr>\n",
       "    <tr>\n",
       "      <th>mean</th>\n",
       "      <td>21.433571</td>\n",
       "      <td>22.597991</td>\n",
       "      <td>2430.562420</td>\n",
       "      <td>147.948752</td>\n",
       "      <td>607.899531</td>\n",
       "    </tr>\n",
       "    <tr>\n",
       "      <th>std</th>\n",
       "      <td>24.740912</td>\n",
       "      <td>70.570899</td>\n",
       "      <td>23545.664313</td>\n",
       "      <td>1561.525918</td>\n",
       "      <td>5210.234488</td>\n",
       "    </tr>\n",
       "    <tr>\n",
       "      <th>min</th>\n",
       "      <td>-51.796300</td>\n",
       "      <td>-135.000000</td>\n",
       "      <td>-1.000000</td>\n",
       "      <td>-1.000000</td>\n",
       "      <td>0.000000</td>\n",
       "    </tr>\n",
       "    <tr>\n",
       "      <th>25%</th>\n",
       "      <td>7.000000</td>\n",
       "      <td>-19.020800</td>\n",
       "      <td>0.000000</td>\n",
       "      <td>0.000000</td>\n",
       "      <td>0.000000</td>\n",
       "    </tr>\n",
       "    <tr>\n",
       "      <th>50%</th>\n",
       "      <td>23.659750</td>\n",
       "      <td>20.921188</td>\n",
       "      <td>6.000000</td>\n",
       "      <td>0.000000</td>\n",
       "      <td>0.000000</td>\n",
       "    </tr>\n",
       "    <tr>\n",
       "      <th>75%</th>\n",
       "      <td>41.204400</td>\n",
       "      <td>81.000000</td>\n",
       "      <td>184.000000</td>\n",
       "      <td>2.000000</td>\n",
       "      <td>18.000000</td>\n",
       "    </tr>\n",
       "    <tr>\n",
       "      <th>max</th>\n",
       "      <td>71.706900</td>\n",
       "      <td>178.065000</td>\n",
       "      <td>965785.000000</td>\n",
       "      <td>54881.000000</td>\n",
       "      <td>117727.000000</td>\n",
       "    </tr>\n",
       "  </tbody>\n",
       "</table>\n",
       "</div>"
      ],
      "text/plain": [
       "                Lat          Long      Confirmed        Deaths      Recovered\n",
       "count  25152.000000  25152.000000   25152.000000  25152.000000   25152.000000\n",
       "mean      21.433571     22.597991    2430.562420    147.948752     607.899531\n",
       "std       24.740912     70.570899   23545.664313   1561.525918    5210.234488\n",
       "min      -51.796300   -135.000000      -1.000000     -1.000000       0.000000\n",
       "25%        7.000000    -19.020800       0.000000      0.000000       0.000000\n",
       "50%       23.659750     20.921188       6.000000      0.000000       0.000000\n",
       "75%       41.204400     81.000000     184.000000      2.000000      18.000000\n",
       "max       71.706900    178.065000  965785.000000  54881.000000  117727.000000"
      ]
     },
     "execution_count": 4,
     "metadata": {},
     "output_type": "execute_result"
    }
   ],
   "source": [
    "data.describe()"
   ]
  },
  {
   "cell_type": "markdown",
   "metadata": {},
   "source": [
    "We see that the count is the same for values in the columns *Lat*, *Long*, *Confirmed*, *Deaths* and *Recovered*.\n",
    "\n",
    "There is, however, something strange with this dataset: The minimum value for *Confirmed* and *Deaths* is -1. Because negative values don't make sense for these two columns, we will use **mean imputation** to replace them with the average number for each column."
   ]
  },
  {
   "cell_type": "code",
   "execution_count": 5,
   "metadata": {},
   "outputs": [
    {
     "data": {
      "text/html": [
       "<div>\n",
       "<style scoped>\n",
       "    .dataframe tbody tr th:only-of-type {\n",
       "        vertical-align: middle;\n",
       "    }\n",
       "\n",
       "    .dataframe tbody tr th {\n",
       "        vertical-align: top;\n",
       "    }\n",
       "\n",
       "    .dataframe thead th {\n",
       "        text-align: right;\n",
       "    }\n",
       "</style>\n",
       "<table border=\"1\" class=\"dataframe\">\n",
       "  <thead>\n",
       "    <tr style=\"text-align: right;\">\n",
       "      <th></th>\n",
       "      <th>Lat</th>\n",
       "      <th>Long</th>\n",
       "      <th>Confirmed</th>\n",
       "      <th>Deaths</th>\n",
       "      <th>Recovered</th>\n",
       "    </tr>\n",
       "  </thead>\n",
       "  <tbody>\n",
       "    <tr>\n",
       "      <th>count</th>\n",
       "      <td>25152.000000</td>\n",
       "      <td>25152.000000</td>\n",
       "      <td>25152.000000</td>\n",
       "      <td>25152.000000</td>\n",
       "      <td>25152.000000</td>\n",
       "    </tr>\n",
       "    <tr>\n",
       "      <th>mean</th>\n",
       "      <td>21.433571</td>\n",
       "      <td>22.597991</td>\n",
       "      <td>2432.399240</td>\n",
       "      <td>148.055347</td>\n",
       "      <td>607.899531</td>\n",
       "    </tr>\n",
       "    <tr>\n",
       "      <th>std</th>\n",
       "      <td>24.740912</td>\n",
       "      <td>70.570899</td>\n",
       "      <td>23545.569393</td>\n",
       "      <td>1561.520830</td>\n",
       "      <td>5210.234488</td>\n",
       "    </tr>\n",
       "    <tr>\n",
       "      <th>min</th>\n",
       "      <td>-51.796300</td>\n",
       "      <td>-135.000000</td>\n",
       "      <td>0.000000</td>\n",
       "      <td>0.000000</td>\n",
       "      <td>0.000000</td>\n",
       "    </tr>\n",
       "    <tr>\n",
       "      <th>25%</th>\n",
       "      <td>7.000000</td>\n",
       "      <td>-19.020800</td>\n",
       "      <td>0.000000</td>\n",
       "      <td>0.000000</td>\n",
       "      <td>0.000000</td>\n",
       "    </tr>\n",
       "    <tr>\n",
       "      <th>50%</th>\n",
       "      <td>23.659750</td>\n",
       "      <td>20.921188</td>\n",
       "      <td>6.000000</td>\n",
       "      <td>0.000000</td>\n",
       "      <td>0.000000</td>\n",
       "    </tr>\n",
       "    <tr>\n",
       "      <th>75%</th>\n",
       "      <td>41.204400</td>\n",
       "      <td>81.000000</td>\n",
       "      <td>185.000000</td>\n",
       "      <td>2.000000</td>\n",
       "      <td>18.000000</td>\n",
       "    </tr>\n",
       "    <tr>\n",
       "      <th>max</th>\n",
       "      <td>71.706900</td>\n",
       "      <td>178.065000</td>\n",
       "      <td>965785.000000</td>\n",
       "      <td>54881.000000</td>\n",
       "      <td>117727.000000</td>\n",
       "    </tr>\n",
       "  </tbody>\n",
       "</table>\n",
       "</div>"
      ],
      "text/plain": [
       "                Lat          Long      Confirmed        Deaths      Recovered\n",
       "count  25152.000000  25152.000000   25152.000000  25152.000000   25152.000000\n",
       "mean      21.433571     22.597991    2432.399240    148.055347     607.899531\n",
       "std       24.740912     70.570899   23545.569393   1561.520830    5210.234488\n",
       "min      -51.796300   -135.000000       0.000000      0.000000       0.000000\n",
       "25%        7.000000    -19.020800       0.000000      0.000000       0.000000\n",
       "50%       23.659750     20.921188       6.000000      0.000000       0.000000\n",
       "75%       41.204400     81.000000     185.000000      2.000000      18.000000\n",
       "max       71.706900    178.065000  965785.000000  54881.000000  117727.000000"
      ]
     },
     "execution_count": 5,
     "metadata": {},
     "output_type": "execute_result"
    }
   ],
   "source": [
    "average_confirmed_count = data['Confirmed'].mean()\n",
    "data.loc[(data['Confirmed'] < 0), 'Confirmed'] = average_confirmed_count\n",
    "\n",
    "average_death_count = data['Deaths'].mean()\n",
    "data.loc[(data['Deaths'] < 0), 'Deaths'] = average_death_count\n",
    "\n",
    "data.describe()"
   ]
  },
  {
   "cell_type": "markdown",
   "metadata": {},
   "source": [
    "Now  those columns make more sense.\n",
    "\n",
    "Also, to ensure data integrity, we will replace any missing values with 0s."
   ]
  },
  {
   "cell_type": "code",
   "execution_count": 6,
   "metadata": {},
   "outputs": [],
   "source": [
    "data[['Confirmed', 'Deaths', 'Recovered']] = data[['Confirmed', 'Deaths', 'Recovered']].fillna(0)"
   ]
  },
  {
   "cell_type": "markdown",
   "metadata": {},
   "source": [
    "### Testing data"
   ]
  },
  {
   "cell_type": "code",
   "execution_count": 7,
   "metadata": {},
   "outputs": [],
   "source": [
    "assert len(data.loc[(data['Deaths'] < 0)]) == 0\n",
    "\n",
    "assert len(data.loc[(data['Confirmed'] < 0)]) == 0\n",
    "\n",
    "assert len(data.loc[(data['Recovered'] < 0)]) == 0"
   ]
  },
  {
   "cell_type": "markdown",
   "metadata": {},
   "source": [
    "It would be a shame to lose all this tidied up data. Let's save it."
   ]
  },
  {
   "cell_type": "code",
   "execution_count": 8,
   "metadata": {},
   "outputs": [],
   "source": [
    "data.to_csv('data/covid19_clean.csv', index=False)"
   ]
  },
  {
   "cell_type": "markdown",
   "metadata": {},
   "source": [
    "We'll now take a look at the scatterplot matrix now that we've tidied the data:"
   ]
  },
  {
   "cell_type": "code",
   "execution_count": 9,
   "metadata": {},
   "outputs": [],
   "source": [
    "data_clean = pd.read_csv('data/covid19_clean.csv')\n",
    "data_clean.fillna(data_clean.mean(), inplace=True)\n",
    "# sb.pairplot(data.dropna())"
   ]
  },
  {
   "cell_type": "markdown",
   "metadata": {},
   "source": [
    "  "
   ]
  },
  {
   "cell_type": "markdown",
   "metadata": {},
   "source": [
    "---\n",
    "\n",
    "# SVM"
   ]
  },
  {
   "cell_type": "code",
   "execution_count": 10,
   "metadata": {},
   "outputs": [],
   "source": [
    "inputs = data_clean[['Lat', 'Long', 'Confirmed', 'Deaths', 'Recovered']].values\n",
    "labels = data_clean[['Province/State', 'Country/Region', 'Date']].values\n",
    "\n",
    "import numpy as np\n",
    "\n",
    "dates = pd.unique(data_clean['Date'])\n",
    "countries = pd.unique(data_clean['Country/Region'])\n",
    "\n",
    "world_cases = []\n",
    "world_deaths = []\n",
    "world_recovered = []\n",
    "\n",
    "number_days_predict = 15\n",
    "\n",
    "for date in dates:\n",
    "    confirmed = data_clean.loc[data_clean['Date'] == date, 'Confirmed']\n",
    "    deaths = data_clean.loc[data_clean['Date'] == date, 'Deaths']\n",
    "    recovered = data_clean.loc[data_clean['Date'] == date, 'Recovered']\n",
    "\n",
    "    total_confirmed = confirmed.sum()\n",
    "    total_deaths = deaths.sum()\n",
    "    total_recovered = recovered.sum()\n",
    "    \n",
    "    world_cases.append(total_confirmed)\n",
    "    world_deaths.append(total_deaths)\n",
    "    world_recovered.append(total_recovered)\n",
    "\n",
    "# Total days since the beggining of the epidemic\n",
    "epidemic_days = np.array([i for i in range(len(dates))]).reshape(-1, 1)\n",
    "\n",
    "train_days = np.array(epidemic_days[0:-number_days_predict]).reshape(-1, 1)\n",
    "test_days = np.array(epidemic_days[-number_days_predict:]).reshape(-1, 1)\n",
    "\n",
    "# Number of confirmed cases worldwide\n",
    "world_cases = np.array(world_cases).reshape(-1, 1)\n",
    "\n",
    "train_cases =  np.array(world_cases[0:-number_days_predict]).reshape(-1, 1)\n",
    "test_cases = np.array(world_cases[-number_days_predict:]).reshape(-1, 1)\n",
    "\n",
    "# Number of death counts worldwide\n",
    "world_deaths = np.array(world_deaths).reshape(-1, 1)\n",
    "\n",
    "train_deaths = np.array(world_cases[0:-number_days_predict]).reshape(-1, 1)\n",
    "test_deaths = np.array(world_cases[-number_days_predict:]).reshape(-1, 1)\n",
    "\n",
    "# Number of recovered patients worldwide\n",
    "world_recovered = np.array(world_recovered).reshape(-1, 1)\n",
    "\n",
    "train_recovered = np.array(world_recovered[0:-number_days_predict]).reshape(-1, 1)\n",
    "test_recovered = np.array(world_recovered[-number_days_predict:]).reshape(-1, 1)"
   ]
  },
  {
   "cell_type": "markdown",
   "metadata": {},
   "source": [
    "## Confirmed cases SVM"
   ]
  },
  {
   "cell_type": "code",
   "execution_count": 11,
   "metadata": {},
   "outputs": [
    {
     "data": {
      "image/png": "[encoded data removed]",
      "text/plain": [
       "<Figure size 432x288 with 1 Axes>"
      ]
     },
     "metadata": {
      "needs_background": "light"
     },
     "output_type": "display_data"
    }
   ],
   "source": [
    "plt.scatter(x=epidemic_days, y=world_cases)\n",
    "plt.xlabel('Number of days since 22/01/2020')\n",
    "plt.ylabel('Number of confirmed cases')\n",
    "plt.show()"
   ]
  },
  {
   "cell_type": "markdown",
   "metadata": {},
   "source": [
    "From this graph we can see that the growth in numbers follows a polynomial function, so we are using a polynomial kernel in SVM.\n",
    "### Testing model for overfiting"
   ]
  },
  {
   "cell_type": "code",
   "execution_count": 12,
   "metadata": {
    "scrolled": true
   },
   "outputs": [
    {
     "data": {
      "image/png": "[encoded data removed]",
      "text/plain": [
       "<Figure size 432x288 with 1 Axes>"
      ]
     },
     "metadata": {
      "needs_background": "light"
     },
     "output_type": "display_data"
    }
   ],
   "source": [
    "from sklearn.svm import SVR\n",
    "from sklearn.model_selection import train_test_split\n",
    "from sklearn.metrics import mean_squared_error\n",
    "\n",
    "values = []\n",
    "\n",
    "for repetition in range(1000):\n",
    "    (X_train,\n",
    "     X_test,\n",
    "     y_train,\n",
    "     y_test) = train_test_split(train_days, train_cases, test_size=0.25) \n",
    "        \n",
    "    svm = SVR(kernel='poly')\n",
    "    svm.fit(X_train, y_train.ravel())\n",
    "    scr = svm.score(X_test, y_test)\n",
    "    values.append(scr)\n",
    "    \n",
    "plt.hist(values)\n",
    "plt.xlabel('Score value')\n",
    "plt.ylabel('# of tests')\n",
    "plt.show()"
   ]
  },
  {
   "cell_type": "markdown",
   "metadata": {},
   "source": [
    "It's obvious our model performs differently depending on the subset of data it's trained on. We can confirmed there is **overfitting** happening.  \n",
    "\n",
    "### Testing for overfiting with K Folds"
   ]
  },
  {
   "cell_type": "code",
   "execution_count": 13,
   "metadata": {},
   "outputs": [
    {
     "data": {
      "image/png": "[encoded data removed]",
      "text/plain": [
       "<Figure size 432x288 with 1 Axes>"
      ]
     },
     "metadata": {
      "needs_background": "light"
     },
     "output_type": "display_data"
    }
   ],
   "source": [
    "from sklearn.model_selection import cross_val_score\n",
    "from sklearn.metrics import make_scorer, mean_squared_error\n",
    "\n",
    "svm = SVR(kernel='poly')\n",
    "\n",
    "cv_scores = cross_val_score(svm, \n",
    "                            train_days, \n",
    "                            train_cases.ravel(), \n",
    "                            cv=10)\n",
    "\n",
    "plt.ylabel('# fold')\n",
    "plt.xlabel('Score value')\n",
    "plt.hist(cv_scores)\n",
    "plt.title('Average score: {}'.format(np.mean(cv_scores)))\n",
    "plt.show()"
   ]
  },
  {
   "cell_type": "markdown",
   "metadata": {},
   "source": [
    "Using kfolds we were able to acheive a more consistant rating.  \n",
    "\n",
    "Knowing this we can start to test with diferent parameters, in the 2 tests before we ran with defaults values for C and epsilon and a polynomial kernel.  \n",
    "Now we are doing a grid search for the best values of C and epsilon. We are also spliting our data to have an independent set to test our model.  \n",
    "\n",
    "Not all the tests done are present bellow, we started by checking the best value for the degree, using defaults for everything else, this ended up being 6. After this we checked for the best combination for C and epsilon, and concluded that the lower the epsilon the better.  \n",
    "With the epsilon fixed we then searched for the best combination of C and coef0.\n",
    "\n",
    "*Beware this next block takes sometime to finish*"
   ]
  },
  {
   "cell_type": "code",
   "execution_count": 14,
   "metadata": {},
   "outputs": [
    {
     "name": "stdout",
     "output_type": "stream",
     "text": [
      "Best score: -57.929523665745215\n",
      "Best parameters: {'C': 1.0, 'coef0': 0.13122448979591836}\n"
     ]
    }
   ],
   "source": [
    "from sklearn.model_selection import GridSearchCV\n",
    "\n",
    "svm = SVR(kernel='poly', degree=6, tol=1e-6, epsilon=0.001)\n",
    "\n",
    "parameter_grid = {'C': np.arange(1, 40, 0.5),\n",
    "                  'coef0': np.linspace(0.01, 1.0)}\n",
    "\n",
    "grid_search = GridSearchCV(svm,\n",
    "                           param_grid=parameter_grid,\n",
    "                           cv=10)\n",
    "\n",
    "grid_search.fit(train_days, train_cases.ravel())\n",
    "\n",
    "print('Best score: {}'.format(grid_search.best_score_))\n",
    "print('Best parameters: {}'.format(grid_search.best_params_))"
   ]
  },
  {
   "cell_type": "code",
   "execution_count": 15,
   "metadata": {
    "scrolled": true
   },
   "outputs": [
    {
     "name": "stdout",
     "output_type": "stream",
     "text": [
      "{'C': 1.0, 'cache_size': 200, 'coef0': 0.13122448979591836, 'degree': 6, 'epsilon': 0.001, 'gamma': 'scale', 'kernel': 'poly', 'max_iter': -1, 'shrinking': True, 'tol': 1e-06, 'verbose': False}\n"
     ]
    }
   ],
   "source": [
    "svm_confirmed = grid_search.best_estimator_\n",
    "print(svm_confirmed.get_params())"
   ]
  },
  {
   "cell_type": "code",
   "execution_count": 17,
   "metadata": {
    "scrolled": false
   },
   "outputs": [
    {
     "data": {
      "image/png": "[encoded data removed]",
      "text/plain": [
       "<Figure size 1080x720 with 1 Axes>"
      ]
     },
     "metadata": {
      "needs_background": "light"
     },
     "output_type": "display_data"
    }
   ],
   "source": [
    "from sklearn.model_selection import cross_val_predict\n",
    "\n",
    "pred = svm_confirmed.predict(epidemic_days)\n",
    "\n",
    "plt.figure(figsize=(15, 10))\n",
    "plt.scatter(x=train_days, y=train_cases, label='Train Set')\n",
    "plt.plot(pred, color='red', label='Model')\n",
    "plt.scatter(test_days, test_cases.ravel(), color='green', label='Test Set')\n",
    "plt.xticks(np.arange(min(epidemic_days), max(epidemic_days)+3, 5.0))\n",
    "plt.title('Model behaviour', fontsize=18)\n",
    "plt.xlabel('Number of days since 22/01/20', fontsize=14)\n",
    "plt.ylabel('Number of confirmed cases', fontsize=14)\n",
    "plt.legend(loc='upper left', fontsize=14)\n",
    "plt.savefig('graphs/svr_confirmed.png')\n",
    "plt.show()"
   ]
  },
  {
   "cell_type": "code",
   "execution_count": 18,
   "metadata": {
    "scrolled": false
   },
   "outputs": [
    {
     "data": {
      "image/png": "[encoded data removed]",
      "text/plain": [
       "<Figure size 1080x720 with 1 Axes>"
      ]
     },
     "metadata": {
      "needs_background": "light"
     },
     "output_type": "display_data"
    }
   ],
   "source": [
    "svr_pred_confirmed = svm_confirmed.predict(test_days)\n",
    "\n",
    "plt.figure(figsize=(15, 10))\n",
    "plt.plot(test_days, svr_pred_confirmed, color='red', label='Model Prediction', lw=2)\n",
    "plt.plot(test_days, test_cases.ravel(), color='blue', label='Actual Values', lw=2)\n",
    "plt.xticks(np.arange(min(test_days), max(test_days), 1.0))\n",
    "plt.title('Model prediction between 13/04 and 28/04', fontsize=18)\n",
    "plt.xlabel('Number of days since 22/01/20', fontsize=14)\n",
    "plt.ylabel('Number of confirmed cases', fontsize=14)\n",
    "plt.legend(loc='upper left', fontsize=14)\n",
    "plt.savefig('graphs/svr_confirmed_pred.png')\n",
    "plt.show()"
   ]
  },
  {
   "cell_type": "markdown",
   "metadata": {},
   "source": [
    "### Model statistics"
   ]
  },
  {
   "cell_type": "code",
   "execution_count": 19,
   "metadata": {},
   "outputs": [
    {
     "name": "stdout",
     "output_type": "stream",
     "text": [
      "Max Error: \t\t2142039.274\n",
      "Mean Absolute Error: \t982382.836\n",
      "Mean Squared Error: \t1332834514838.546\n"
     ]
    }
   ],
   "source": [
    "from sklearn.metrics import max_error, mean_absolute_error, mean_squared_error, r2_score\n",
    "\n",
    "max_error = max_error(test_cases, svr_pred_confirmed)\n",
    "mae = mean_absolute_error(test_cases, svr_pred_confirmed)\n",
    "mse = mean_squared_error(test_cases, svr_pred_confirmed)\n",
    "\n",
    "print('Max Error: \\t\\t{:0.3f}'.format(max_error))\n",
    "print('Mean Absolute Error: \\t{:0.3f}'.format(mae))\n",
    "print('Mean Squared Error: \\t{:0.3f}'.format(mse))"
   ]
  },
  {
   "cell_type": "markdown",
   "metadata": {},
   "source": [
    "## Confirmed deaths SVM"
   ]
  },
  {
   "cell_type": "code",
   "execution_count": 20,
   "metadata": {},
   "outputs": [
    {
     "data": {
      "image/png": "[encoded data removed]",
      "text/plain": [
       "<Figure size 432x288 with 1 Axes>"
      ]
     },
     "metadata": {
      "needs_background": "light"
     },
     "output_type": "display_data"
    }
   ],
   "source": [
    "plt.scatter(x=epidemic_days, y=world_deaths)\n",
    "plt.xlabel('Number of days since 22/01/2020')\n",
    "plt.ylabel('Number of confirmed cases')\n",
    "plt.show()"
   ]
  },
  {
   "cell_type": "markdown",
   "metadata": {},
   "source": [
    "From this graph we can see that the growth in numbers follows a polynomial function, so we are using a polynomial kernel in SVM.\n",
    "### Testing model for overfiting"
   ]
  },
  {
   "cell_type": "code",
   "execution_count": 21,
   "metadata": {
    "scrolled": false
   },
   "outputs": [
    {
     "data": {
      "image/png": "[encoded data removed]",
      "text/plain": [
       "<Figure size 432x288 with 1 Axes>"
      ]
     },
     "metadata": {
      "needs_background": "light"
     },
     "output_type": "display_data"
    }
   ],
   "source": [
    "values = []\n",
    "\n",
    "for repetition in range(1000):\n",
    "    (X_train,\n",
    "     X_test,\n",
    "     y_train,\n",
    "     y_test) = train_test_split(train_days, train_deaths, test_size=0.25) \n",
    "        \n",
    "    svm = SVR(kernel='poly')\n",
    "    svm.fit(X_train, y_train.ravel())\n",
    "    scr = svm.score(X_test, y_test)\n",
    "    values.append(scr)\n",
    "    \n",
    "plt.hist(values)\n",
    "plt.xlabel('Score value')\n",
    "plt.ylabel('# of tests')\n",
    "plt.show()"
   ]
  },
  {
   "cell_type": "markdown",
   "metadata": {},
   "source": [
    "It's obvious our model performs differently depending on the subset of data it's trained on. We can confirmed there is **overfitting** happening.  \n",
    "\n",
    "### Testing for overfiting with K Folds"
   ]
  },
  {
   "cell_type": "code",
   "execution_count": 22,
   "metadata": {
    "scrolled": true
   },
   "outputs": [
    {
     "data": {
      "image/png": "[encoded data removed]",
      "text/plain": [
       "<Figure size 432x288 with 1 Axes>"
      ]
     },
     "metadata": {
      "needs_background": "light"
     },
     "output_type": "display_data"
    }
   ],
   "source": [
    "svm = SVR(kernel='poly')\n",
    "\n",
    "cv_scores = cross_val_score(svm, \n",
    "                            train_days, \n",
    "                            train_deaths.ravel(), \n",
    "                            cv=10)\n",
    "\n",
    "plt.ylabel('# fold')\n",
    "plt.xlabel('Score value')\n",
    "plt.hist(cv_scores)\n",
    "plt.title('Average score: {}'.format(np.mean(cv_scores)))\n",
    "plt.show()"
   ]
  },
  {
   "cell_type": "markdown",
   "metadata": {},
   "source": [
    "Using kfolds we were able to acheive a more consistant rating.  \n",
    "\n",
    "Knowing this we can start to test with diferent parameters, in the 2 tests before we ran with defaults values for C and epsilon and a polynomial kernel.  \n",
    "Now we are doing a grid search for the best values of C and epsilon. We are also spliting our data to have an independent set to test our model.  \n",
    "\n",
    "Not all the tests done are present bellow, we started by checking the best value for the degree, using defaults for everything else, this ended up being 5. After this we checked for the best combination for C and epsilon, contrary to what happened in the confirmed cases model here the lower epsilon didnt result in better results.  \n",
    "With the epsilon fixed we then searched for the best combination of C and coef0.\n",
    "\n",
    "*Beware this next block takes sometime to finish*"
   ]
  },
  {
   "cell_type": "code",
   "execution_count": 23,
   "metadata": {},
   "outputs": [
    {
     "name": "stdout",
     "output_type": "stream",
     "text": [
      "Best score: -27.63768414640136\n",
      "Best parameters: {'C': 39.5, 'coef0': 3.679795918367347}\n"
     ]
    }
   ],
   "source": [
    "svm = SVR(kernel='poly', degree=5, tol=1e-6, epsilon=10)\n",
    "\n",
    "parameter_grid = {'C': np.arange(1, 40, 0.5),\n",
    "                  'coef0': np.linspace(0.01, 10)}\n",
    "\n",
    "grid_search = GridSearchCV(svm,\n",
    "                           param_grid=parameter_grid,\n",
    "                           cv=10)\n",
    "\n",
    "grid_search.fit(train_days, train_deaths.ravel())\n",
    "\n",
    "print('Best score: {}'.format(grid_search.best_score_))\n",
    "print('Best parameters: {}'.format(grid_search.best_params_))"
   ]
  },
  {
   "cell_type": "code",
   "execution_count": 24,
   "metadata": {
    "scrolled": true
   },
   "outputs": [
    {
     "name": "stdout",
     "output_type": "stream",
     "text": [
      "{'C': 39.5, 'cache_size': 200, 'coef0': 3.679795918367347, 'degree': 5, 'epsilon': 10, 'gamma': 'scale', 'kernel': 'poly', 'max_iter': -1, 'shrinking': True, 'tol': 1e-06, 'verbose': False}\n"
     ]
    }
   ],
   "source": [
    "svm_deaths = grid_search.best_estimator_\n",
    "print(svm_deaths.get_params())"
   ]
  },
  {
   "cell_type": "code",
   "execution_count": 26,
   "metadata": {},
   "outputs": [
    {
     "data": {
      "image/png": "[encoded data removed]",
      "text/plain": [
       "<Figure size 1080x720 with 1 Axes>"
      ]
     },
     "metadata": {
      "needs_background": "light"
     },
     "output_type": "display_data"
    }
   ],
   "source": [
    "pred = svm_deaths.predict(epidemic_days)\n",
    "\n",
    "plt.figure(figsize=(15, 10))\n",
    "plt.scatter(x=train_days, y=train_deaths, label='Train Set')\n",
    "plt.plot(pred, color='red', label='Model')\n",
    "plt.scatter(test_days, test_deaths.ravel(), color='green', label='Test Set')\n",
    "plt.xticks(np.arange(min(epidemic_days), max(epidemic_days)+3, 5.0))\n",
    "plt.title('Model behaviour', fontsize=18)\n",
    "plt.xlabel('Number of days since 22/01/20', fontsize=14)\n",
    "plt.ylabel('Number of deaths', fontsize=14)\n",
    "plt.legend(loc='upper left', fontsize=14)\n",
    "plt.savefig('graphs/svr_deaths_model.png')\n",
    "plt.show()"
   ]
  },
  {
   "cell_type": "code",
   "execution_count": 27,
   "metadata": {
    "scrolled": false
   },
   "outputs": [
    {
     "data": {
      "image/png": "[encoded data removed]",
      "text/plain": [
       "<Figure size 1080x720 with 1 Axes>"
      ]
     },
     "metadata": {
      "needs_background": "light"
     },
     "output_type": "display_data"
    }
   ],
   "source": [
    "svr_pred_deaths = svm_deaths.predict(test_days)\n",
    "\n",
    "plt.figure(figsize=(15, 10))\n",
    "plt.plot(test_days, svr_pred_deaths, color='red', label='Model Prediction', lw=2)\n",
    "plt.plot(test_days, test_deaths.ravel(), color='blue', label='Actual Values', lw=2)\n",
    "plt.xticks(np.arange(min(test_days), max(test_days), 1.0))\n",
    "plt.title('Model prediction between 13/04 and 28/04', fontsize=18)\n",
    "plt.xlabel('Number of days since 22/01/20', fontsize=14)\n",
    "plt.ylabel('Number of deaths', fontsize=14)\n",
    "plt.legend(loc='upper left', fontsize=14)\n",
    "plt.savefig('graphs/svr_deaths_pred.png')\n",
    "plt.show()"
   ]
  },
  {
   "cell_type": "markdown",
   "metadata": {},
   "source": [
    "### Model statistics"
   ]
  },
  {
   "cell_type": "code",
   "execution_count": 28,
   "metadata": {},
   "outputs": [
    {
     "name": "stdout",
     "output_type": "stream",
     "text": [
      "Max Error: \t\t1601655.943\n",
      "Mean Absolute Error: \t728272.283\n",
      "Mean Squared Error: \t742386552239.895\n"
     ]
    }
   ],
   "source": [
    "from sklearn.metrics import max_error, mean_absolute_error, mean_squared_error, r2_score\n",
    "\n",
    "max_error = max_error(test_deaths, svr_pred_deaths)\n",
    "mae = mean_absolute_error(test_deaths, svr_pred_deaths)\n",
    "mse = mean_squared_error(test_deaths, svr_pred_deaths)\n",
    "\n",
    "print('Max Error: \\t\\t{:0.3f}'.format(max_error))\n",
    "print('Mean Absolute Error: \\t{:0.3f}'.format(mae))\n",
    "print('Mean Squared Error: \\t{:0.3f}'.format(mse))"
   ]
  },
  {
   "cell_type": "markdown",
   "metadata": {},
   "source": [
    "## Confirmed recoveries SVM"
   ]
  },
  {
   "cell_type": "code",
   "execution_count": 29,
   "metadata": {},
   "outputs": [
    {
     "data": {
      "image/png": "[encoded data removed]",
      "text/plain": [
       "<Figure size 432x288 with 1 Axes>"
      ]
     },
     "metadata": {
      "needs_background": "light"
     },
     "output_type": "display_data"
    }
   ],
   "source": [
    "plt.scatter(x=epidemic_days, y=world_recovered)\n",
    "plt.xlabel('Number of days since 22/01/2020')\n",
    "plt.ylabel('Number of confirmed cases')\n",
    "plt.show()"
   ]
  },
  {
   "cell_type": "markdown",
   "metadata": {},
   "source": [
    "From this graph we can see that the growth in numbers follows a polynomial function, so we are using a polynomial kernel in SVM.\n",
    "### Testing model for overfiting"
   ]
  },
  {
   "cell_type": "code",
   "execution_count": 30,
   "metadata": {
    "scrolled": false
   },
   "outputs": [
    {
     "data": {
      "image/png": "[encoded data removed]",
      "text/plain": [
       "<Figure size 432x288 with 1 Axes>"
      ]
     },
     "metadata": {
      "needs_background": "light"
     },
     "output_type": "display_data"
    }
   ],
   "source": [
    "values = []\n",
    "\n",
    "for repetition in range(1000):\n",
    "    # Predict confirmed cases \n",
    "    (X_train,\n",
    "     X_test,\n",
    "     y_train,\n",
    "     y_test) = train_test_split(train_days, train_recovered, test_size=0.25) \n",
    "        \n",
    "    svm = SVR(kernel='poly')\n",
    "    svm.fit(X_train, y_train.ravel())\n",
    "    scr = svm.score(X_test, y_test)\n",
    "    values.append(scr)\n",
    "    \n",
    "plt.hist(values)\n",
    "plt.xlabel('Score value')\n",
    "plt.ylabel('# of tests')\n",
    "plt.show()"
   ]
  },
  {
   "cell_type": "markdown",
   "metadata": {},
   "source": [
    "It's obvious our model performs differently depending on the subset of data it's trained on. We can confirmed there is **overfitting** happening.  \n",
    "\n",
    "### Testing for overfiting with K Folds"
   ]
  },
  {
   "cell_type": "code",
   "execution_count": 31,
   "metadata": {
    "scrolled": false
   },
   "outputs": [
    {
     "data": {
      "image/png": "[encoded data removed]",
      "text/plain": [
       "<Figure size 432x288 with 1 Axes>"
      ]
     },
     "metadata": {
      "needs_background": "light"
     },
     "output_type": "display_data"
    }
   ],
   "source": [
    "svm = SVR(kernel='poly')\n",
    "\n",
    "cv_scores = cross_val_score(svm, \n",
    "                            train_days, \n",
    "                            train_recovered.ravel(), \n",
    "                            cv=10)\n",
    "\n",
    "plt.ylabel('# fold')\n",
    "plt.xlabel('Score value')\n",
    "plt.hist(cv_scores)\n",
    "plt.title('Average score: {}'.format(np.mean(cv_scores)))\n",
    "plt.show()"
   ]
  },
  {
   "cell_type": "markdown",
   "metadata": {},
   "source": [
    "Using kfolds we were able to acheive a more consistant rating.  \n",
    "\n",
    "Knowing this we can start to test with diferent parameters, in the 2 tests before we ran with defaults values for C and epsilon and a polynomial kernel.  \n",
    "Now we are doing a grid search for the best values of C and epsilon. We are also spliting our data to have an independent set to test our model.  \n",
    "\n",
    "Not all the tests done are present bellow, we started by checking the best value for the degree, using defaults for everything else, this ended up being 4. After this we checked for the best combination for C and epsilon. After this first test we noticed that the regression was well behaved, meaning it followed better the number of recoveries. We also noticed that the best value for epsilon was higher than the ones previously used.  \n",
    "Since this model was well behaved the tests were quicker."
   ]
  },
  {
   "cell_type": "code",
   "execution_count": 32,
   "metadata": {},
   "outputs": [
    {
     "name": "stdout",
     "output_type": "stream",
     "text": [
      "Best score: 29.986501064486408\n",
      "Best parameters: {'coef0': 1.8571428571428572}\n"
     ]
    }
   ],
   "source": [
    "svm = SVR(kernel='poly', degree=4, tol=1e-6, C=32.5, epsilon=454)\n",
    "\n",
    "parameter_grid = {'coef0': np.linspace(1.0, 2.0)}\n",
    "\n",
    "grid_search = GridSearchCV(svm,\n",
    "                           param_grid=parameter_grid,\n",
    "                           cv=10)\n",
    "\n",
    "grid_search.fit(train_days, train_recovered.ravel())\n",
    "\n",
    "print('Best score: {}'.format(abs(grid_search.best_score_)))\n",
    "print('Best parameters: {}'.format(grid_search.best_params_))"
   ]
  },
  {
   "cell_type": "code",
   "execution_count": 33,
   "metadata": {
    "scrolled": true
   },
   "outputs": [
    {
     "name": "stdout",
     "output_type": "stream",
     "text": [
      "{'C': 32.5, 'cache_size': 200, 'coef0': 1.8571428571428572, 'degree': 4, 'epsilon': 454, 'gamma': 'scale', 'kernel': 'poly', 'max_iter': -1, 'shrinking': True, 'tol': 1e-06, 'verbose': False}\n"
     ]
    }
   ],
   "source": [
    "svm_recoveries = grid_search.best_estimator_\n",
    "print(svm_recoveries.get_params())"
   ]
  },
  {
   "cell_type": "code",
   "execution_count": 34,
   "metadata": {},
   "outputs": [
    {
     "data": {
      "image/png": "[encoded data removed]",
      "text/plain": [
       "<Figure size 1080x720 with 1 Axes>"
      ]
     },
     "metadata": {
      "needs_background": "light"
     },
     "output_type": "display_data"
    }
   ],
   "source": [
    "pred = svm_recoveries.predict(epidemic_days)\n",
    "\n",
    "plt.figure(figsize=(15, 10))\n",
    "plt.scatter(x=train_days, y=train_recovered, label='Train Set')\n",
    "plt.plot(pred, color='red', label='Model')\n",
    "plt.scatter(test_days, test_recovered.ravel(), color='green', label='Test Set')\n",
    "plt.xticks(np.arange(min(epidemic_days), max(epidemic_days)+3, 5.0))\n",
    "plt.title('Model behaviour', fontsize=18)\n",
    "plt.xlabel('Number of days since 22/01/20', fontsize=14)\n",
    "plt.ylabel('Number of recoveries', fontsize=14)\n",
    "plt.legend(loc='upper left', fontsize=14)\n",
    "plt.savefig('graphs/svr_recovered_model.png')\n",
    "plt.show()"
   ]
  },
  {
   "cell_type": "code",
   "execution_count": 35,
   "metadata": {
    "scrolled": false
   },
   "outputs": [
    {
     "data": {
      "image/png": "[encoded data removed]",
      "text/plain": [
       "<Figure size 1080x720 with 1 Axes>"
      ]
     },
     "metadata": {
      "needs_background": "light"
     },
     "output_type": "display_data"
    }
   ],
   "source": [
    "svr_pred_recoveries = svm_recoveries.predict(test_days)\n",
    "\n",
    "plt.figure(figsize=(15, 10))\n",
    "plt.plot(test_days, svr_pred_recoveries, color='red', label='Model Prediction', lw=2)\n",
    "plt.plot(test_days, test_recovered.ravel(), color='blue', label='Actual Values', lw=2)\n",
    "plt.xticks(np.arange(min(test_days), max(test_days), 1.0))\n",
    "plt.title('Model prediction between 13/04 and 28/04', fontsize=18)\n",
    "plt.xlabel('Number of days since 22/01/20', fontsize=14)\n",
    "plt.ylabel('Number of recoveries', fontsize=14)\n",
    "plt.legend(loc='upper left', fontsize=14)\n",
    "plt.savefig('graphs/svr_recovered_pred.png')\n",
    "plt.show()"
   ]
  },
  {
   "cell_type": "markdown",
   "metadata": {},
   "source": [
    "### Model statistics"
   ]
  },
  {
   "cell_type": "code",
   "execution_count": 36,
   "metadata": {},
   "outputs": [
    {
     "name": "stdout",
     "output_type": "stream",
     "text": [
      "Max Error: \t\t229170.324\n",
      "Mean Absolute Error: \t145387.601\n",
      "Mean Squared Error: \t23142033248.139\n"
     ]
    }
   ],
   "source": [
    "from sklearn.metrics import max_error, mean_absolute_error, mean_squared_error, r2_score\n",
    "\n",
    "max_error = max_error(test_recovered, svr_pred_recoveries)\n",
    "mae = mean_absolute_error(test_recovered, svr_pred_recoveries)\n",
    "mse = mean_squared_error(test_recovered, svr_pred_recoveries)\n",
    "\n",
    "print('Max Error: \\t\\t{:0.3f}'.format(max_error))\n",
    "print('Mean Absolute Error: \\t{:0.3f}'.format(mae))\n",
    "print('Mean Squared Error: \\t{:0.3f}'.format(mse))"
   ]
  },
  {
   "cell_type": "markdown",
   "metadata": {},
   "source": [
    "# Neural Network"
   ]
  },
  {
   "cell_type": "code",
   "execution_count": 37,
   "metadata": {},
   "outputs": [
    {
     "ename": "ModuleNotFoundError",
     "evalue": "No module named 'keras'",
     "output_type": "error",
     "traceback": [
      "\u001b[0;31m---------------------------------------------------------------------------\u001b[0m",
      "\u001b[0;31mModuleNotFoundError\u001b[0m                       Traceback (most recent call last)",
      "\u001b[0;32m<ipython-input-37-4eb91fbb4d17>\u001b[0m in \u001b[0;36m<module>\u001b[0;34m\u001b[0m\n\u001b[1;32m      3\u001b[0m \u001b[0;32mimport\u001b[0m \u001b[0mmatplotlib\u001b[0m\u001b[0;34m.\u001b[0m\u001b[0mpyplot\u001b[0m \u001b[0;32mas\u001b[0m \u001b[0mplt\u001b[0m\u001b[0;34m\u001b[0m\u001b[0;34m\u001b[0m\u001b[0m\n\u001b[1;32m      4\u001b[0m \u001b[0;32mimport\u001b[0m \u001b[0mpandas\u001b[0m\u001b[0;34m\u001b[0m\u001b[0;34m\u001b[0m\u001b[0m\n\u001b[0;32m----> 5\u001b[0;31m \u001b[0;32mfrom\u001b[0m \u001b[0mkeras\u001b[0m\u001b[0;34m.\u001b[0m\u001b[0mmodels\u001b[0m \u001b[0;32mimport\u001b[0m \u001b[0mSequential\u001b[0m\u001b[0;34m\u001b[0m\u001b[0;34m\u001b[0m\u001b[0m\n\u001b[0m\u001b[1;32m      6\u001b[0m \u001b[0;32mfrom\u001b[0m \u001b[0mkeras\u001b[0m\u001b[0;34m.\u001b[0m\u001b[0mlayers\u001b[0m \u001b[0;32mimport\u001b[0m \u001b[0mDense\u001b[0m\u001b[0;34m\u001b[0m\u001b[0;34m\u001b[0m\u001b[0m\n",
      "\u001b[0;31mModuleNotFoundError\u001b[0m: No module named 'keras'"
     ]
    }
   ],
   "source": [
    "import math\n",
    "import numpy as np\n",
    "import matplotlib.pyplot as plt\n",
    "import pandas\n",
    "from keras.models import Sequential\n",
    "from keras.layers import Dense"
   ]
  },
  {
   "cell_type": "code",
   "execution_count": null,
   "metadata": {},
   "outputs": [],
   "source": [
    "inputs = data_clean[['Lat', 'Long', 'Confirmed', 'Deaths', 'Recovered']].values\n",
    "labels = data_clean[['Province/State', 'Country/Region', 'Date']].values\n",
    "\n",
    "dates = pd.unique(data_clean['Date'])\n",
    "countries = pd.unique(data_clean['Country/Region'])\n",
    "\n",
    "world_cases = []\n",
    "world_deaths = []\n",
    "world_recovered = []\n",
    "\n",
    "for date in dates:\n",
    "    confirmed = data_clean.loc[data_clean['Date'] == date, 'Confirmed']\n",
    "    deaths = data_clean.loc[data_clean['Date'] == date, 'Deaths']\n",
    "    recovered = data_clean.loc[data_clean['Date'] == date, 'Recovered']\n",
    "\n",
    "    total_confirmed = confirmed.sum()\n",
    "    total_deaths = deaths.sum()\n",
    "    total_recovered = recovered.sum()\n",
    "    \n",
    "    world_cases.append(total_confirmed)\n",
    "    world_deaths.append(total_deaths)\n",
    "    world_recovered.append(total_recovered)\n",
    "\n",
    "# Total days since the beggining of the epidemic\n",
    "epidemic_days = np.array([i for i in range(len(dates))]).reshape(-1, 1)\n",
    "\n",
    "# Number of confirmed cases worldwide\n",
    "world_cases = np.array(world_cases).reshape(-1, 1)\n",
    "\n",
    "# Number of death counts worldwide\n",
    "world_deaths = np.array(world_deaths).reshape(-1, 1)\n",
    "\n",
    "# Number of recovered patients worldwide\n",
    "world_recovered = np.array(world_recovered).reshape(-1, 1)"
   ]
  },
  {
   "cell_type": "markdown",
   "metadata": {},
   "source": [
    "## Confirmed Cases NN"
   ]
  },
  {
   "cell_type": "code",
   "execution_count": null,
   "metadata": {},
   "outputs": [],
   "source": [
    "plt.scatter(x=epidemic_days, y=world_cases)\n",
    "plt.xlabel('Number of days since 22/01/2020')\n",
    "plt.ylabel('Number of confirmed cases')\n",
    "plt.show()"
   ]
  },
  {
   "cell_type": "markdown",
   "metadata": {},
   "source": [
    "From this graph we can see that the growth in numbers follows a polynomial function, which the neural network is capable of predicting."
   ]
  },
  {
   "cell_type": "code",
   "execution_count": null,
   "metadata": {},
   "outputs": [],
   "source": [
    "dp_world_cases = world_cases.astype('float32')"
   ]
  },
  {
   "cell_type": "markdown",
   "metadata": {},
   "source": [
    "We convert the data to floats because the neural network is more accurate with floats rather than integers"
   ]
  },
  {
   "cell_type": "code",
   "execution_count": null,
   "metadata": {},
   "outputs": [],
   "source": [
    "# split into train and test sets\n",
    "train_size = int(len(dp_world_cases) * 0.67)\n",
    "test_size = len(dp_world_cases) - train_size\n",
    "train, test = dp_world_cases[0:train_size], dp_world_cases[train_size:len(dp_world_cases)]\n",
    "print(len(train), len(test))"
   ]
  },
  {
   "cell_type": "markdown",
   "metadata": {},
   "source": [
    "We split the data in 2 parts, the first two thirds is for training and the remaining third for testing"
   ]
  },
  {
   "cell_type": "code",
   "execution_count": null,
   "metadata": {},
   "outputs": [],
   "source": [
    "# convert an array of values into a dataset matrix\n",
    "def create_dataset(dataset, look_back=1):\n",
    "\tdataX, dataY = [], []\n",
    "\tfor i in range(len(dataset)-look_back-1):\n",
    "\t\ta = dataset[i:(i+look_back), 0]\n",
    "\t\tdataX.append(a)\n",
    "\t\tdataY.append(dataset[i + look_back, 0])\n",
    "\treturn np.array(dataX), np.array(dataY)\n",
    "\n",
    "\n",
    "# convert an array of values into a dataset matrix\n",
    "def create_dataset_X(dataset, look_back=1):\n",
    "\tdataX = []\n",
    "\tfor i in range(len(dataset)-look_back):\n",
    "\t\ta = dataset[i:(i+look_back), 0]\n",
    "\t\tdataX.append(a)\n",
    "\treturn np.array(dataX)"
   ]
  },
  {
   "cell_type": "markdown",
   "metadata": {},
   "source": [
    "### Using the 15 previous days to forecast"
   ]
  },
  {
   "cell_type": "code",
   "execution_count": null,
   "metadata": {},
   "outputs": [],
   "source": [
    "# reshape dataset\n",
    "look_back = 15\n",
    "trainX, trainY = create_dataset(train, look_back)\n",
    "testX, testY = create_dataset(test, look_back)\n",
    "finalX = create_dataset_X(dp_world_cases, look_back)\n",
    "print(len(trainX), len(testX), len(finalX))"
   ]
  },
  {
   "cell_type": "markdown",
   "metadata": {},
   "source": [
    "We create the dataset for training, in which each node contains the numbers of the previous 15 days, and the list with the correct answers."
   ]
  },
  {
   "cell_type": "code",
   "execution_count": null,
   "metadata": {},
   "outputs": [],
   "source": [
    "# create and fit Multilayer Perceptron model\n",
    "model = Sequential()\n",
    "model.add(Dense(8, input_dim=look_back, activation='relu'))\n",
    "# model.add(Dense(45, activation='relu'))\n",
    "# model.add(Dense(10, activation='relu'))\n",
    "model.add(Dense(1))\n",
    "model.compile(loss='mean_squared_error', optimizer='adam')\n",
    "model.fit(trainX, trainY, epochs=1000, batch_size=2, verbose=2)"
   ]
  },
  {
   "cell_type": "markdown",
   "metadata": {},
   "source": [
    "Here we are using a neural network with 15 inputs, a hidden layer with 8 nodes and 1 output. We are also training it"
   ]
  },
  {
   "cell_type": "code",
   "execution_count": null,
   "metadata": {},
   "outputs": [],
   "source": [
    "# Estimate model performance\n",
    "trainScore = model.evaluate(trainX, trainY, verbose=0)\n",
    "print('Train Score: %.2f MSE (%.2f RMSE)' % (trainScore, math.sqrt(trainScore)))\n",
    "testScore = model.evaluate(testX, testY, verbose=0)\n",
    "print('Test Score: %.2f MSE (%.2f RMSE)' % (testScore, math.sqrt(testScore)))"
   ]
  },
  {
   "cell_type": "markdown",
   "metadata": {},
   "source": [
    "Here we can see the performace of our neural network, both in the data that we used to train as well as with never previously seen data."
   ]
  },
  {
   "cell_type": "code",
   "execution_count": null,
   "metadata": {},
   "outputs": [],
   "source": [
    "# generate predictions for training\n",
    "trainPredict = model.predict(trainX)\n",
    "testPredict = model.predict(testX)\n",
    "# shift train predictions for plotting\n",
    "trainPredictPlot = np.empty_like(dp_world_cases)\n",
    "trainPredictPlot[:, :] = np.nan\n",
    "trainPredictPlot[look_back:len(trainPredict)+look_back, :] = trainPredict\n",
    "# shift test predictions for plotting\n",
    "testPredictPlot = np.empty_like(dp_world_cases)\n",
    "testPredictPlot[:, :] = np.nan\n",
    "testPredictPlot[len(trainPredict)+(look_back*2)+1:len(dp_world_cases)-1, :] = testPredict\n",
    "# plot baseline and predictions\n",
    "plt.plot(dp_world_cases)\n",
    "plt.plot(trainPredictPlot)\n",
    "plt.plot(testPredictPlot)\n",
    "plt.show()"
   ]
  },
  {
   "cell_type": "markdown",
   "metadata": {},
   "source": [
    "With this graph we can see that it actualy makes a good estimate for the values"
   ]
  },
  {
   "cell_type": "code",
   "execution_count": null,
   "metadata": {},
   "outputs": [],
   "source": [
    "prevision =  []\n",
    "for i in range(look_back):\n",
    "    cur = []\n",
    "    for j in range(look_back-i):\n",
    "        cur.append(dp_world_cases[-look_back+i+j])\n",
    "    for j in range(i):\n",
    "        cur.append(np.array(([prevision[j]])))\n",
    "    curnode = np.array(cur)\n",
    "    curnode = np.array([curnode[:, 0]])\n",
    "    pred = model.predict(curnode)\n",
    "    prevision.append(pred[0])\n",
    "prevision = np.array(prevision[:])"
   ]
  },
  {
   "cell_type": "markdown",
   "metadata": {},
   "source": [
    "Here we try to predict to the future of our data. Since the neural network only predicts the next day with the information of the previous 15 days what we do here is predict a day and use that prevision to generate the folowing predictions."
   ]
  },
  {
   "cell_type": "code",
   "execution_count": null,
   "metadata": {},
   "outputs": [],
   "source": [
    "testFinal = model.predict(finalX)\n",
    "beginFinal = np.array([ np.array([np.nan]) for i in range(look_back) ])\n",
    "allTest = np.concatenate((beginFinal, testFinal, prevision))"
   ]
  },
  {
   "cell_type": "markdown",
   "metadata": {},
   "source": [
    "Here we generate the list with all predictions made from the neural network"
   ]
  },
  {
   "cell_type": "code",
   "execution_count": null,
   "metadata": {},
   "outputs": [],
   "source": [
    "plt.figure(figsize=(15,10))\n",
    "plt.scatter(x=epidemic_days, y=dp_world_cases)\n",
    "plt.xlabel('Number of days since 22/01/2020')\n",
    "plt.ylabel('Number of confirmed cases')\n",
    "plt.plot(allTest)\n",
    "plt.show()"
   ]
  },
  {
   "cell_type": "markdown",
   "metadata": {},
   "source": [
    "And here we can see the graph with all previsions made."
   ]
  },
  {
   "cell_type": "markdown",
   "metadata": {},
   "source": [
    "## Confirmed deaths NN"
   ]
  },
  {
   "cell_type": "code",
   "execution_count": null,
   "metadata": {},
   "outputs": [],
   "source": [
    "plt.scatter(x=epidemic_days, y=world_deaths)\n",
    "plt.xlabel('Number of days since 22/01/2020')\n",
    "plt.ylabel('Number of confirmed deaths')\n",
    "plt.show()"
   ]
  },
  {
   "cell_type": "markdown",
   "metadata": {},
   "source": [
    "From this graph we can see that the growth in numbers follows a polynomial function, which the neural network is capable of predicting."
   ]
  },
  {
   "cell_type": "code",
   "execution_count": null,
   "metadata": {},
   "outputs": [],
   "source": [
    "dp_world_deaths = world_deaths.astype('float32')"
   ]
  },
  {
   "cell_type": "markdown",
   "metadata": {},
   "source": [
    "We convert the data to floats because the neural network is more accurate with floats rather than integers"
   ]
  },
  {
   "cell_type": "code",
   "execution_count": null,
   "metadata": {},
   "outputs": [],
   "source": [
    "# split into train and test sets\n",
    "train_size = int(len(dp_world_deaths) * 0.67)\n",
    "test_size = len(dp_world_deaths) - train_size\n",
    "train, test = dp_world_deaths[0:train_size], dp_world_deaths[train_size:len(dp_world_deaths)]\n",
    "print(len(train), len(test))"
   ]
  },
  {
   "cell_type": "markdown",
   "metadata": {},
   "source": [
    "We split the data in 2 parts, the first two thirds is for training and the remaining third for testing"
   ]
  },
  {
   "cell_type": "code",
   "execution_count": null,
   "metadata": {},
   "outputs": [],
   "source": [
    "# convert an array of values into a dataset matrix\n",
    "def create_dataset(dataset, look_back=1):\n",
    "\tdataX, dataY = [], []\n",
    "\tfor i in range(len(dataset)-look_back-1):\n",
    "\t\ta = dataset[i:(i+look_back), 0]\n",
    "\t\tdataX.append(a)\n",
    "\t\tdataY.append(dataset[i + look_back, 0])\n",
    "\treturn np.array(dataX), np.array(dataY)\n",
    "\n",
    "\n",
    "# convert an array of values into a dataset matrix\n",
    "def create_dataset_X(dataset, look_back=1):\n",
    "\tdataX = []\n",
    "\tfor i in range(len(dataset)-look_back):\n",
    "\t\ta = dataset[i:(i+look_back), 0]\n",
    "\t\tdataX.append(a)\n",
    "\treturn np.array(dataX)"
   ]
  },
  {
   "cell_type": "markdown",
   "metadata": {},
   "source": [
    "### Using the 15 previous days to forecast"
   ]
  },
  {
   "cell_type": "code",
   "execution_count": null,
   "metadata": {},
   "outputs": [],
   "source": [
    "# reshape dataset\n",
    "look_back = 15\n",
    "trainX, trainY = create_dataset(train, look_back)\n",
    "testX, testY = create_dataset(test, look_back)\n",
    "finalX = create_dataset_X(dp_world_deaths, look_back)\n",
    "print(len(trainX), len(testX), len(finalX))"
   ]
  },
  {
   "cell_type": "markdown",
   "metadata": {},
   "source": [
    "We create the dataset for training, in which each node contains the numbers of the previous 15 days, and the list with the correct answers."
   ]
  },
  {
   "cell_type": "code",
   "execution_count": null,
   "metadata": {},
   "outputs": [],
   "source": [
    "# create and fit Multilayer Perceptron model\n",
    "model = Sequential()\n",
    "model.add(Dense(8, input_dim=look_back, activation='relu'))\n",
    "# model.add(Dense(45, activation='relu'))\n",
    "# model.add(Dense(10, activation='relu'))\n",
    "model.add(Dense(1))\n",
    "model.compile(loss='mean_squared_error', optimizer='adam')\n",
    "model.fit(trainX, trainY, epochs=1000, batch_size=2, verbose=2)"
   ]
  },
  {
   "cell_type": "markdown",
   "metadata": {},
   "source": [
    "Here we are using a neural network with 15 inputs, a hidden layer with 8 nodes and 1 output. We are also training it"
   ]
  },
  {
   "cell_type": "code",
   "execution_count": null,
   "metadata": {},
   "outputs": [],
   "source": [
    "# Estimate model performance\n",
    "trainScore = model.evaluate(trainX, trainY, verbose=0)\n",
    "print('Train Score: %.2f MSE (%.2f RMSE)' % (trainScore, math.sqrt(trainScore)))\n",
    "testScore = model.evaluate(testX, testY, verbose=0)\n",
    "print('Test Score: %.2f MSE (%.2f RMSE)' % (testScore, math.sqrt(testScore)))"
   ]
  },
  {
   "cell_type": "markdown",
   "metadata": {},
   "source": [
    "Here we can see the performace of our neural network, both in the data that we used to train as well as with never previously seen data."
   ]
  },
  {
   "cell_type": "code",
   "execution_count": null,
   "metadata": {
    "scrolled": true
   },
   "outputs": [],
   "source": [
    "# generate predictions for training\n",
    "trainPredict = model.predict(trainX)\n",
    "testPredict = model.predict(testX)\n",
    "# shift train predictions for plotting\n",
    "trainPredictPlot = np.empty_like(dp_world_deaths)\n",
    "trainPredictPlot[:, :] = np.nan\n",
    "trainPredictPlot[look_back:len(trainPredict)+look_back, :] = trainPredict\n",
    "# shift test predictions for plotting\n",
    "testPredictPlot = np.empty_like(dp_world_deaths)\n",
    "testPredictPlot[:, :] = np.nan\n",
    "testPredictPlot[len(trainPredict)+(look_back*2)+1:len(dp_world_deaths)-1, :] = testPredict\n",
    "# plot baseline and predictions\n",
    "plt.plot(dp_world_deaths)\n",
    "plt.plot(trainPredictPlot)\n",
    "plt.plot(testPredictPlot)\n",
    "plt.show()"
   ]
  },
  {
   "cell_type": "markdown",
   "metadata": {},
   "source": [
    "With this graph we can see that it actualy makes a good estimate for the values"
   ]
  },
  {
   "cell_type": "code",
   "execution_count": null,
   "metadata": {},
   "outputs": [],
   "source": [
    "prevision =  []\n",
    "for i in range(look_back):\n",
    "    cur = []\n",
    "    for j in range(look_back-i):\n",
    "        cur.append(dp_world_deaths[-look_back+i+j])\n",
    "    for j in range(i):\n",
    "        cur.append(np.array(([prevision[j]])))\n",
    "    curnode = np.array(cur)\n",
    "    curnode = np.array([curnode[:, 0]])\n",
    "    pred = model.predict(curnode)\n",
    "    prevision.append(pred[0])\n",
    "prevision = np.array(prevision[:])"
   ]
  },
  {
   "cell_type": "markdown",
   "metadata": {},
   "source": [
    "Here we try to predict to the future of our data. Since the neural network only predicts the next day with the information of the previous 15 days what we do here is predict a day and use that prevision to generate the folowing predictions."
   ]
  },
  {
   "cell_type": "code",
   "execution_count": null,
   "metadata": {},
   "outputs": [],
   "source": [
    "testFinal = model.predict(finalX)\n",
    "beginFinal = np.array([ np.array([np.nan]) for i in range(look_back) ])\n",
    "allTest = np.concatenate((beginFinal, testFinal, prevision))"
   ]
  },
  {
   "cell_type": "markdown",
   "metadata": {},
   "source": [
    "Here we generate the list with all predictions made from the neural network"
   ]
  },
  {
   "cell_type": "code",
   "execution_count": null,
   "metadata": {
    "scrolled": true
   },
   "outputs": [],
   "source": [
    "plt.figure(figsize=(15,10))\n",
    "plt.scatter(x=epidemic_days, y=dp_world_deaths)\n",
    "plt.xlabel('Number of days since 22/01/2020')\n",
    "plt.ylabel('Number of confirmed deaths')\n",
    "plt.plot(allTest)\n",
    "plt.show()"
   ]
  },
  {
   "cell_type": "markdown",
   "metadata": {},
   "source": [
    "And here we can see the graph with all previsions made."
   ]
  },
  {
   "cell_type": "markdown",
   "metadata": {},
   "source": [
    "## Confirmed recoveries NN"
   ]
  },
  {
   "cell_type": "code",
   "execution_count": null,
   "metadata": {},
   "outputs": [],
   "source": [
    "plt.scatter(x=epidemic_days, y=world_recovered)\n",
    "plt.xlabel('Number of days since 22/01/2020')\n",
    "plt.ylabel('Number of confirmed recoveries')\n",
    "plt.show()"
   ]
  },
  {
   "cell_type": "markdown",
   "metadata": {},
   "source": [
    "From this graph we can see that the growth in numbers follows a polynomial function, which the neural network is capable of predicting."
   ]
  },
  {
   "cell_type": "code",
   "execution_count": null,
   "metadata": {},
   "outputs": [],
   "source": [
    "dp_world_recoveries = world_recovered.astype('float32')"
   ]
  },
  {
   "cell_type": "markdown",
   "metadata": {},
   "source": [
    "We convert the data to floats because the neural network is more accurate with floats rather than integers"
   ]
  },
  {
   "cell_type": "code",
   "execution_count": null,
   "metadata": {},
   "outputs": [],
   "source": [
    "# split into train and test sets\n",
    "train_size = int(len(dp_world_recoveries) * 0.67)\n",
    "test_size = len(dp_world_recoveries) - train_size\n",
    "train, test = dp_world_recoveries[0:train_size], dp_world_recoveries[train_size:len(dp_world_deaths)]\n",
    "print(len(train), len(test))"
   ]
  },
  {
   "cell_type": "markdown",
   "metadata": {},
   "source": [
    "We split the data in 2 parts, the first two thirds is for training and the remaining third for testing"
   ]
  },
  {
   "cell_type": "code",
   "execution_count": null,
   "metadata": {},
   "outputs": [],
   "source": [
    "# convert an array of values into a dataset matrix\n",
    "def create_dataset(dataset, look_back=1):\n",
    "\tdataX, dataY = [], []\n",
    "\tfor i in range(len(dataset)-look_back-1):\n",
    "\t\ta = dataset[i:(i+look_back), 0]\n",
    "\t\tdataX.append(a)\n",
    "\t\tdataY.append(dataset[i + look_back, 0])\n",
    "\treturn np.array(dataX), np.array(dataY)\n",
    "\n",
    "\n",
    "# convert an array of values into a dataset matrix\n",
    "def create_dataset_X(dataset, look_back=1):\n",
    "\tdataX = []\n",
    "\tfor i in range(len(dataset)-look_back):\n",
    "\t\ta = dataset[i:(i+look_back), 0]\n",
    "\t\tdataX.append(a)\n",
    "\treturn np.array(dataX)"
   ]
  },
  {
   "cell_type": "markdown",
   "metadata": {},
   "source": [
    "### Using the 15 previous days to forecast"
   ]
  },
  {
   "cell_type": "code",
   "execution_count": null,
   "metadata": {},
   "outputs": [],
   "source": [
    "# reshape dataset\n",
    "look_back = 15\n",
    "trainX, trainY = create_dataset(train, look_back)\n",
    "testX, testY = create_dataset(test, look_back)\n",
    "finalX = create_dataset_X(dp_world_recoveries, look_back)\n",
    "print(len(trainX), len(testX), len(finalX))"
   ]
  },
  {
   "cell_type": "markdown",
   "metadata": {},
   "source": [
    "We create the dataset for training, in which each node contains the numbers of the previous 15 days, and the list with the correct answers."
   ]
  },
  {
   "cell_type": "code",
   "execution_count": null,
   "metadata": {
    "scrolled": true
   },
   "outputs": [],
   "source": [
    "# create and fit Multilayer Perceptron model\n",
    "model = Sequential()\n",
    "model.add(Dense(8, input_dim=look_back, activation='relu'))\n",
    "# model.add(Dense(45, activation='relu'))\n",
    "# model.add(Dense(10, activation='relu'))\n",
    "model.add(Dense(1))\n",
    "model.compile(loss='mean_squared_error', optimizer='adam')\n",
    "model.fit(trainX, trainY, epochs=1000, batch_size=2, verbose=2)"
   ]
  },
  {
   "cell_type": "markdown",
   "metadata": {},
   "source": [
    "Here we are using a neural network with 15 inputs, a hidden layer with 8 nodes and 1 output. We are also training it"
   ]
  },
  {
   "cell_type": "code",
   "execution_count": null,
   "metadata": {},
   "outputs": [],
   "source": [
    "# Estimate model performance\n",
    "trainScore = model.evaluate(trainX, trainY, verbose=0)\n",
    "print('Train Score: %.2f MSE (%.2f RMSE)' % (trainScore, math.sqrt(trainScore)))\n",
    "testScore = model.evaluate(testX, testY, verbose=0)\n",
    "print('Test Score: %.2f MSE (%.2f RMSE)' % (testScore, math.sqrt(testScore)))"
   ]
  },
  {
   "cell_type": "markdown",
   "metadata": {},
   "source": [
    "Here we can see the performace of our neural network, both in the data that we used to train as well as with never previously seen data."
   ]
  },
  {
   "cell_type": "code",
   "execution_count": null,
   "metadata": {
    "scrolled": true
   },
   "outputs": [],
   "source": [
    "# generate predictions for training\n",
    "trainPredict = model.predict(trainX)\n",
    "testPredict = model.predict(testX)\n",
    "# shift train predictions for plotting\n",
    "trainPredictPlot = np.empty_like(dp_world_recoveries)\n",
    "trainPredictPlot[:, :] = np.nan\n",
    "trainPredictPlot[look_back:len(trainPredict)+look_back, :] = trainPredict\n",
    "# shift test predictions for plotting\n",
    "testPredictPlot = np.empty_like(dp_world_recoveries)\n",
    "testPredictPlot[:, :] = np.nan\n",
    "testPredictPlot[len(trainPredict)+(look_back*2)+1:len(dp_world_recoveries)-1, :] = testPredict\n",
    "# plot baseline and predictions\n",
    "plt.plot(dp_world_recoveries)\n",
    "plt.plot(trainPredictPlot)\n",
    "plt.plot(testPredictPlot)\n",
    "plt.show()"
   ]
  },
  {
   "cell_type": "markdown",
   "metadata": {},
   "source": [
    "With this graph we can see that it actualy makes a good estimate for the values"
   ]
  },
  {
   "cell_type": "code",
   "execution_count": null,
   "metadata": {},
   "outputs": [],
   "source": [
    "prevision =  []\n",
    "for i in range(look_back):\n",
    "    cur = []\n",
    "    for j in range(look_back-i):\n",
    "        cur.append(dp_world_recoveries[-look_back+i+j])\n",
    "    for j in range(i):\n",
    "        cur.append(np.array(([prevision[j]])))\n",
    "    curnode = np.array(cur)\n",
    "    curnode = np.array([curnode[:, 0]])\n",
    "    pred = model.predict(curnode)\n",
    "    prevision.append(pred[0])\n",
    "prevision = np.array(prevision[:])"
   ]
  },
  {
   "cell_type": "markdown",
   "metadata": {},
   "source": [
    "Here we try to predict to the future of our data. Since the neural network only predicts the next day with the information of the previous 15 days what we do here is predict a day and use that prevision to generate the folowing predictions."
   ]
  },
  {
   "cell_type": "code",
   "execution_count": null,
   "metadata": {},
   "outputs": [],
   "source": [
    "testFinal = model.predict(finalX)\n",
    "beginFinal = np.array([ np.array([np.nan]) for i in range(look_back) ])\n",
    "allTest = np.concatenate((beginFinal, testFinal, prevision))"
   ]
  },
  {
   "cell_type": "markdown",
   "metadata": {},
   "source": [
    "Here we generate the list with all predictions made from the neural network"
   ]
  },
  {
   "cell_type": "code",
   "execution_count": null,
   "metadata": {
    "scrolled": false
   },
   "outputs": [],
   "source": [
    "plt.figure(figsize=(15,10))\n",
    "plt.scatter(x=epidemic_days, y=dp_world_recoveries)\n",
    "plt.xlabel('Number of days since 22/01/2020')\n",
    "plt.ylabel('Number of confirmed recoveries')\n",
    "plt.plot(allTest)"
   ]
  },
  {
   "cell_type": "markdown",
   "metadata": {},
   "source": [
    "And here we can see the graph with all previsions made."
   ]
  },
  {
   "cell_type": "markdown",
   "metadata": {},
   "source": [
    "---\n",
    "\n",
    "# Decision Tree\n",
    "\n",
    "Although we cannot extrapolate values with the Decision Tree algorithm we still decided to implement it.  \n",
    "This algorithm builds a tree where each node a decision is made, until a final decision is made at the leaf node. With this in mind, when we asked to predict how the next day, the next 15 days of the pandemic would be with this model, it was obvious it wouldn't work. The tree simply didn't have the necessary knowledge to predict that, it had no previous experience of how a day 100 would be in a covid19 pandemic.  \n",
    "\n",
    "With all of this, this implementation still proved valuable since it made us figure out and understand the results we were seeing."
   ]
  },
  {
   "cell_type": "code",
   "execution_count": null,
   "metadata": {},
   "outputs": [],
   "source": [
    "inputs = data_clean[['Lat', 'Long', 'Confirmed', 'Deaths', 'Recovered']].values\n",
    "labels = data_clean[['Province/State', 'Country/Region', 'Date']].values\n",
    "\n",
    "import numpy as np\n",
    "\n",
    "dates = pd.unique(data_clean['Date'])\n",
    "countries = pd.unique(data_clean['Country/Region'])\n",
    "\n",
    "world_cases = []\n",
    "world_deaths = []\n",
    "world_recovered = []\n",
    "\n",
    "number_days_predict = 15\n",
    "\n",
    "for date in dates:\n",
    "    confirmed = data_clean.loc[data_clean['Date'] == date, 'Confirmed']\n",
    "    deaths = data_clean.loc[data_clean['Date'] == date, 'Deaths']\n",
    "    recovered = data_clean.loc[data_clean['Date'] == date, 'Recovered']\n",
    "\n",
    "    total_confirmed = confirmed.sum()\n",
    "    total_deaths = deaths.sum()\n",
    "    total_recovered = recovered.sum()\n",
    "    \n",
    "    world_cases.append(total_confirmed)\n",
    "    world_deaths.append(total_deaths)\n",
    "    world_recovered.append(total_recovered)\n",
    "\n",
    "# Total days since the beggining of the epidemic\n",
    "epidemic_days = np.array([i for i in range(len(dates))]).reshape(-1, 1)\n",
    "\n",
    "train_days = np.array(epidemic_days[0:-number_days_predict]).reshape(-1, 1)\n",
    "test_days = np.array(epidemic_days[-number_days_predict:]).reshape(-1, 1)\n",
    "\n",
    "# Number of confirmed cases worldwide\n",
    "world_cases = np.array(world_cases).reshape(-1, 1)\n",
    "\n",
    "train_cases =  np.array(world_cases[0:-number_days_predict]).reshape(-1, 1)\n",
    "test_cases = np.array(world_cases[-number_days_predict:]).reshape(-1, 1)\n",
    "\n",
    "# Number of death counts worldwide\n",
    "world_deaths = np.array(world_deaths).reshape(-1, 1)\n",
    "\n",
    "train_deaths = np.array(world_cases[0:-number_days_predict]).reshape(-1, 1)\n",
    "test_deaths = np.array(world_cases[-number_days_predict:]).reshape(-1, 1)\n",
    "\n",
    "# Number of recovered patients worldwide\n",
    "world_recovered = np.array(world_recovered).reshape(-1, 1)\n",
    "\n",
    "train_recovered = np.array(world_recovered[0:-number_days_predict]).reshape(-1, 1)\n",
    "test_recovered = np.array(world_recovered[-number_days_predict:]).reshape(-1, 1)"
   ]
  },
  {
   "cell_type": "markdown",
   "metadata": {},
   "source": [
    "## Confirmed Cases DT"
   ]
  },
  {
   "cell_type": "code",
   "execution_count": null,
   "metadata": {},
   "outputs": [],
   "source": [
    "from sklearn.tree import DecisionTreeRegressor\n",
    "        \n",
    "dt = DecisionTreeRegressor()\n",
    "\n",
    "dt.fit(train_days, train_cases.ravel())\n",
    "pred = dt.predict(epidemic_days)\n",
    "\n",
    "plt.figure(figsize=(15, 10))\n",
    "plt.scatter(x=train_days, y=train_cases, label='Train Set')\n",
    "plt.plot(pred, color='red', label='Model')\n",
    "plt.scatter(test_days, test_cases.ravel(), color='green', label='Test Set')\n",
    "plt.xticks(np.arange(min(epidemic_days), max(epidemic_days)+3, 5.0))\n",
    "plt.title('Model behaviour', fontsize=18)\n",
    "plt.xlabel('Number of days since 22/01/20', fontsize=14)\n",
    "plt.ylabel('Number of recoveries', fontsize=14)\n",
    "plt.legend(loc='upper left', fontsize=14)\n",
    "plt.savefig('graphs/dt_confirmed.png')\n",
    "plt.show()"
   ]
  },
  {
   "cell_type": "markdown",
   "metadata": {},
   "source": [
    "As expected, with values unkonw do the tree, the prediction falls on the last leaf node of the tree corresponding to the last value of the training set."
   ]
  },
  {
   "cell_type": "markdown",
   "metadata": {},
   "source": [
    "## Confirmed deaths DT"
   ]
  },
  {
   "cell_type": "code",
   "execution_count": null,
   "metadata": {},
   "outputs": [],
   "source": [
    "dt = DecisionTreeRegressor()\n",
    "\n",
    "dt.fit(train_days, train_deaths.ravel())\n",
    "pred = dt.predict(epidemic_days)\n",
    "\n",
    "plt.figure(figsize=(15, 10))\n",
    "plt.scatter(x=train_days, y=train_deaths, label='Train Set')\n",
    "plt.plot(pred, color='red', label='Model')\n",
    "plt.scatter(test_days, test_deaths.ravel(), color='green', label='Test Set')\n",
    "plt.xticks(np.arange(min(epidemic_days), max(epidemic_days)+3, 5.0))\n",
    "plt.title('Model behaviour', fontsize=18)\n",
    "plt.xlabel('Number of days since 22/01/20', fontsize=14)\n",
    "plt.ylabel('Number of recoveries', fontsize=14)\n",
    "plt.legend(loc='upper left', fontsize=14)\n",
    "plt.savefig('graphs/dt_deaths.png')\n",
    "plt.show()"
   ]
  },
  {
   "cell_type": "markdown",
   "metadata": {},
   "source": [
    "## Confirmed recoveries DT"
   ]
  },
  {
   "cell_type": "code",
   "execution_count": null,
   "metadata": {},
   "outputs": [],
   "source": [
    "dt = DecisionTreeRegressor()\n",
    "\n",
    "dt.fit(train_days, train_recovered.ravel())\n",
    "pred = dt.predict(epidemic_days)\n",
    "\n",
    "plt.figure(figsize=(15, 10))\n",
    "plt.scatter(x=train_days, y=train_recovered, label='Train Set')\n",
    "plt.plot(pred, color='red', label='Model')\n",
    "plt.scatter(test_days, test_recovered.ravel(), color='green', label='Test Set')\n",
    "plt.xticks(np.arange(min(epidemic_days), max(epidemic_days)+3, 5.0))\n",
    "plt.title('Model behaviour', fontsize=18)\n",
    "plt.xlabel('Number of days since 22/01/20', fontsize=14)\n",
    "plt.ylabel('Number of recoveries', fontsize=14)\n",
    "plt.legend(loc='upper left', fontsize=14)\n",
    "plt.savefig('graphs/dt_recovered.png')\n",
    "plt.show()"
   ]
  },
  {
   "cell_type": "code",
   "execution_count": null,
   "metadata": {},
   "outputs": [],
   "source": []
  }
 ],
 "metadata": {
  "celltoolbar": "Raw Cell Format",
  "kernelspec": {
   "display_name": "Python 3",
   "language": "python",
   "name": "python3"
  },
  "language_info": {
   "codemirror_mode": {
    "name": "ipython",
    "version": 3
   },
   "file_extension": ".py",
   "mimetype": "text/x-python",
   "name": "python",
   "nbconvert_exporter": "python",
   "pygments_lexer": "ipython3",
   "version": "3.8.3"
  }
 },
 "nbformat": 4,
 "nbformat_minor": 2
}
